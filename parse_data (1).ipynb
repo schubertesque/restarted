{
  "nbformat": 4,
  "nbformat_minor": 0,
  "metadata": {
    "colab": {
      "name": "parse_data.ipynb",
      "provenance": []
    },
    "kernelspec": {
      "name": "python3",
      "display_name": "Python 3"
    }
  },
  "cells": [
    {
      "cell_type": "code",
      "metadata": {
        "id": "vNeLjxMS8jDg",
        "outputId": "8d6ed182-0271-41e0-a7cd-e36b41f061cd",
        "colab": {
          "base_uri": "https://localhost:8080/",
          "height": 35
        }
      },
      "source": [
        "%cd '/content/drive/My Drive/Colab Notebooks/GraphNN'"
      ],
      "execution_count": 1,
      "outputs": [
        {
          "output_type": "stream",
          "text": [
            "/content/drive/My Drive/Colab Notebooks/GraphNN\n"
          ],
          "name": "stdout"
        }
      ]
    },
    {
      "cell_type": "code",
      "metadata": {
        "id": "7Oou0XGa83fy"
      },
      "source": [
        "import json\n",
        "with open('result.json') as json_file:\n",
        "    result_data = json.load(json_file)\n",
        "\n",
        "with open('chair.json') as chair_file:\n",
        "    chair_data = json.load(chair_file)"
      ],
      "execution_count": 2,
      "outputs": []
    },
    {
      "cell_type": "code",
      "metadata": {
        "id": "foYeVuMw9p6m",
        "outputId": "17241fa6-2097-451d-c631-cd450ade0b0f",
        "colab": {
          "base_uri": "https://localhost:8080/",
          "height": 72
        }
      },
      "source": [
        "print(result_data)\n",
        "print(chair_data)"
      ],
      "execution_count": 3,
      "outputs": [
        {
          "output_type": "stream",
          "text": [
            "[{'text': 'Sitting Furniture', 'children': [{'text': 'Chair Base', 'children': [{'text': 'Regular Leg Base', 'children': [{'text': 'Bar Stretcher', 'objs': ['new-0'], 'id': 12, 'name': 'bar_stretcher'}, {'text': 'Leg', 'objs': ['new-12'], 'id': 13, 'name': 'leg'}, {'text': 'Leg', 'objs': ['new-10'], 'id': 14, 'name': 'leg'}, {'text': 'Leg', 'objs': ['new-8'], 'id': 15, 'name': 'leg'}, {'text': 'Leg', 'objs': ['new-6'], 'id': 16, 'name': 'leg'}, {'text': 'Bar Stretcher', 'objs': ['new-4'], 'id': 17, 'name': 'bar_stretcher'}, {'text': 'Bar Stretcher', 'objs': ['new-2'], 'id': 18, 'name': 'bar_stretcher'}], 'id': 6, 'name': 'regular_leg_base'}], 'id': 5, 'name': 'chair_base'}, {'text': 'Chair Back', 'children': [{'text': 'Back Surface', 'children': [{'text': 'Back Hard Surface', 'objs': ['new-15'], 'id': 24, 'name': 'back_hard_surface'}], 'id': 23, 'name': 'back_surface'}], 'id': 19, 'name': 'chair_back'}, {'text': 'Chair Seat', 'children': [{'text': 'Seat Surface', 'children': [{'text': 'Seat Hard Surface', 'objs': ['new-14'], 'id': 22, 'name': 'seat_hard_surface'}], 'id': 21, 'name': 'seat_surface'}], 'id': 20, 'name': 'chair_seat'}], 'id': 0, 'name': 'chair'}]\n",
            "{'root': 'chair', 'content': [{'name': 'chair', 'label': 'Sitting Furniture', 'gloss': 'furniture that is designed for sitting on', 'parts': ['chair_head', 'chair_back', 'chair_arm', 'chair_seat', 'chair_base', 'footrest'], 'default_part_num': [0, 1, 2, 1, 1, 0, 0]}, {'name': 'chair_head', 'label': 'Chair Head', 'gloss': 'a support that you can rest your head on while sitting', 'parts': ['headrest', 'head_connector', 'pillow'], 'default_part_num': [1, 0, 0]}, {'name': 'headrest', 'label': 'Head Rest', 'gloss': 'a surface part on chair head for a sitting human to rest the head on'}, {'name': 'head_connector', 'label': 'Head Connector', 'gloss': 'a part that connects the chair head to the other part of chair, usually chair back'}, {'name': 'chair_back', 'label': 'Chair Back', 'gloss': 'a support at the back of the chair that you can lean against while sitting', 'parts': ['back_surface', 'back_support', 'back_frame', 'back_connector', 'pillow']}, {'name': 'back_surface', 'label': 'Back Surface', 'gloss': 'a surface part for a sitting person to lean the back on. It includes sub-parts such as back hard surface, back soft surface, back surface vertical bar, back surface horizontal bar, back surface slant bar, back surface complex decoration, etc.', 'parts': ['back_hard_surface', 'back_soft_surface', 'back_surface_vertical_bar', 'back_surface_horizontal_bar', 'back_surface_slant_bar', 'back_complex_decoration']}, {'name': 'back_frame', 'label': 'Back Frame', 'gloss': 'a framing part to outline the backbone of a chair back. It includes sub-parts such as back framing vertical bars, back framing horizontal bars, back framing slant bars, back holistic frames, etc.', 'parts': ['back_frame_vertical_bar', 'back_frame_horizontal_bar', 'back_frame_slant_bar', 'back_holistic_frame']}, {'name': 'back_hard_surface', 'label': 'Back Hard Surface', 'gloss': 'a front surface part on chair back for a sitting human to lean the back on. It is usually made of wood/metal/plastic or other hard materials.'}, {'name': 'back_soft_surface', 'label': 'Back Soft Surface', 'gloss': 'a front surface part on chair back for a sitting human to lean the back on. It is usually made of leather/fabric/soft stuffs.'}, {'name': 'back_support', 'label': 'Back Support', 'gloss': 'a part behind the back surface that supports the back surface. It is different from back frame in that the back support is for supporting the back surface while the back frame is for framing the backbone/outline of a chair back.'}, {'name': 'back_holistic_frame', 'label': 'Back Holistic Frame', 'gloss': 'a framing structure for chair back that is usually curved, continuous and indivisible into smaller bars/strips'}, {'name': 'back_surface_vertical_bar', 'label': 'Back Surface Vertical Bar', 'gloss': 'a near-vertical bar/strip like part that help form the back surface'}, {'name': 'back_surface_horizontal_bar', 'label': 'Back Surface Horizontal Bar', 'gloss': 'a near-horizontal bar/strip like part that help form the back surface'}, {'name': 'back_surface_slant_bar', 'label': 'Back Surface Slant Bar', 'gloss': 'a slant bar/strip like part that help form the back surface. The angle between a slant bar and the ground should be around 30~60 degree. Otherwise, it should be annotated as either vertical or horizontal bars.'}, {'name': 'back_frame_vertical_bar', 'label': 'Back Frame Vertical Bar', 'gloss': 'a near-vertical bar/strip like part that help form the back frame'}, {'name': 'back_frame_horizontal_bar', 'label': 'Back Frame Horizontal Bar', 'gloss': 'a near-horizontal bar/strip like part that help form the back frame'}, {'name': 'back_frame_slant_bar', 'label': 'Back Frame Slant Bar', 'gloss': 'a slant bar/strip like part that help form the back frame. The angle between a slant bar and the ground should be around 30~60 degree. Otherwise, it should be annotated as either vertical or horizontal bars.'}, {'name': 'back_complex_decoration', 'label': 'Back Complex Decoration', 'gloss': 'a complex decorative part for chair back that does not belong to simple bars/strips, frames or surfaces. It usually comes with some complicated geometry and artistic design for decorative purposes.'}, {'name': 'back_connector', 'label': 'Back Connector', 'gloss': 'a part that connects the chair back to the other part of chair, usually chair seat or chair base'}, {'name': 'chair_arm', 'label': 'Chair Arm', 'gloss': 'the part of an armchair or sofa that supports the elbow and forearm of a seated person', 'parts': ['armrest_hard_surface', 'armrest_soft_surface', 'arm_horizontal_bar', 'arm_vertical_bar', 'arm_slant_bar', 'arm_holistic_frame', 'arm_sofa_style', 'arm_writing_table', 'arm_connector'], 'default_part_num': [1, 0, 0, 1, 0, 0, 0, 0, 0]}, {'name': 'armrest_hard_surface', 'label': 'Armrest Hard Surface', 'gloss': 'a part that supports your elbow and forearm, usually made of wood/metal/plastic or other hard materials'}, {'name': 'armrest_soft_surface', 'label': 'Armrest Soft Surface', 'gloss': 'a part that supports your elbow and forearm, usually made of leather/fabric/airbag and stuffed with soft material'}, {'name': 'arm_horizontal_bar', 'label': 'Arm Horizontal Bar', 'gloss': 'a near-horizontal bar/strip like part that supports the armrest. It usually connects to the chair back to support the armrest.'}, {'name': 'arm_vertical_bar', 'label': 'Arm Vertical Bar', 'gloss': 'a near-vertical bar/strip like part that supports the armrest. It usually connects to the chair seat/base to support the armrest.'}, {'name': 'arm_slant_bar', 'label': 'Arm Slant Bar', 'gloss': 'a slant bar/strip like part that composes the arm surface/support. The angle between a slant bar and the ground should be around 30~60 degree. Otherwise, the part should be annotated as either vertical or horizontal bar.'}, {'name': 'arm_holistic_frame', 'label': 'Arm Holistic Frame', 'gloss': 'a continuous framing and supporting part that supports the armrest.  It is difficult for this part to be further divided into smaller armrest and vertical bars.'}, {'name': 'arm_sofa_style', 'label': 'Sofa-style Arm', 'gloss': \"a big chunk of geometry that supports human's arm and is usually connected to chair back or chair seat seamlessly. It is commonly used for sofas and some bean chairs. You can think of the part as an imaginary part from a continuous single part that acts as chair back, seat and arms.\"}, {'name': 'arm_writing_table', 'label': 'Arm Writing Table', 'gloss': 'an arm of a tablet-armed chair; widened to provide a writing surface'}, {'name': 'arm_connector', 'label': 'Arm Connector', 'gloss': 'a part that connects the chair arm to the other part of chair, usually chair seat or chair base'}, {'name': 'chair_seat', 'label': 'Chair Seat', 'gloss': 'any support where you can sit (especially the part of a chair or bench etc. on which you sit)', 'parts': ['seat_surface', 'seat_support', 'seat_frame', 'pillow'], 'default_part_num': [1, 0, 0, 0]}, {'name': 'seat_surface', 'label': 'Seat Surface', 'gloss': 'a top surface part on a chair seat for a person to sit on. It includes several sub-parts such as seat hard surface, seat soft surface, seat surface vertical bar, seat surface horizontal bar, seat surface slant bar, etc.', 'parts': ['seat_hard_surface', 'seat_soft_surface', 'seat_surface_vertical_bar', 'seat_surface_horizontal_bar', 'seat_surface_slant_bar']}, {'name': 'seat_support', 'label': 'Seat Support', 'gloss': 'a big chunk of geometry under the seat surface that supports the seat surface. It usually exists for a sofa chair. This is different from base connector, which is a part that connects the seat and the base.'}, {'name': 'seat_frame', 'label': 'Seat Frame', 'gloss': 'a framing structure to construct the backbone/frame of a chair seat. It includes several sub-parts such as frame vertical bars, frame horizontal bars, frame slant bars, seat holistic frame, etc.', 'parts': ['seat_frame_vertical_bar', 'seat_frame_horizontal_bar', 'seat_frame_slant_bar', 'seat_holistic_frame']}, {'name': 'seat_hard_surface', 'label': 'Seat Hard Surface', 'gloss': 'a top surface part on chair seat for a sitting human to sit on. It is usually made of wood/metal/plastic or other hard materials.'}, {'name': 'seat_soft_surface', 'label': 'Seat Soft Surface', 'gloss': 'a top surface part on chair seat for a sitting human to sit on. It is usually made of leather/fabric/soft stuffs.'}, {'name': 'seat_surface_vertical_bar', 'label': 'Seat Surface Vertical Bar', 'gloss': 'a near-vertical bar/strip like part that composes the seat surface. A bar is considered as vertical if it is close to perpendicular to chair back.'}, {'name': 'seat_surface_horizontal_bar', 'label': 'Seat Surface Horizontal Bar', 'gloss': 'a near-horizontal bar/strip like part that composes the seat surface. A bar is considered as horizontal if it is close to parallel to chair back.'}, {'name': 'seat_surface_slant_bar', 'label': 'Seat Surface Slant Bar', 'gloss': 'a slant bar/strip like part that composes the seat surface. The angle between a slant bar and the chair back should be around 30~60 degree. Otherwise, the part should be annotated as either vertical or horizontal bars.'}, {'name': 'seat_frame_vertical_bar', 'label': 'Seat Frame Vertical Bar', 'gloss': 'a near-vertical bar/strip like part that composes the seat frame. A bar is considered as vertical if it is close to perpendicular to chair back.'}, {'name': 'seat_frame_horizontal_bar', 'label': 'Seat Frame Horizontal Bar', 'gloss': 'a near-horizontal bar/strip like part that composes the seat frame. A bar is considered as horizontal if it is close to parallel to chair back.'}, {'name': 'seat_frame_slant_bar', 'label': 'Seat Frame Slant Bar', 'gloss': 'a slant bar/strip like part that composes the seat frame. The angle between a slant bar and the chair back should be around 30~60 degree. Otherwise, the part should be annotated as either vertical or horizontal bars.'}, {'name': 'seat_holistic_frame', 'label': 'Seat Holistic Frame', 'gloss': 'a framing structure for chair seat that is usually curved, continuous and indivisible into smaller bars/strips'}, {'name': 'pillow', 'label': 'Pillow', 'gloss': 'an additional/removable cushion to support the head of a sleeping person, or to support the back or hip of a sitting person. Common types of pillow include rectangular pillow, circular pillow, donut pillow, etc.'}, {'name': 'footrest', 'label': 'Footrest', 'gloss': 'a object (often separate) to support the leg and foot of a sitting person while they are seating in the main chair.  Sometimes also called an ottoman', 'parts': ['chair_seat', 'chair_base', 'footrest_connector']}, {'name': 'footrest_connector', 'label': 'Footrest Connector', 'gloss': 'a part that connects the footrest to the other parts of chair, usually the chair seat or chair base'}, {'name': 'chair_base', 'label': 'Chair Base', 'gloss': 'a support or foundation for chair. It includes but is not limited to leg base, swivel base, pedestal base, foot base, etc.', 'subtypes': ['regular_leg_base', 'star_leg_base', 'pedestal_base', 'surface_base', 'foot_base'], 'default_subtype': 'regular_leg_base'}, {'name': 'regular_leg_base', 'label': 'Regular Leg Base', 'gloss': 'a chair base that is composed of several vertical leg-like supporting sub-parts, possibly with several connections between legs, and contacts the ground by the legs, some horizontal bars or the foot/caster structure on the legs', 'parts': ['leg', 'foot', 'caster', 'bar_stretcher', 'circular_stretcher', 'runner', 'rocker', 'seat_connector'], 'default_part_num': [4, 0, 0, 0, 0, 0, 0, 0]}, {'name': 'bar_stretcher', 'label': 'Bar Stretcher', 'gloss': 'a supporting part joining the legs that is of bar/strip like shape'}, {'name': 'circular_stretcher', 'label': 'Circular Stretcher', 'gloss': 'a supporting part joining the legs that is of circular shape'}, {'name': 'runner', 'label': 'Runner', 'gloss': 'horizontal part that connects the end of legs and contacts the ground'}, {'name': 'rocker', 'label': 'Rocker', 'gloss': 'a curved support that permits the supported object to rock to and from'}, {'name': 'seat_connector', 'label': 'Seat Connector', 'gloss': 'a part that connects the chair base to the chair seat'}, {'name': 'star_leg_base', 'label': 'Star-shape Leg Base', 'gloss': 'a chair base that includes a star-shape leg structure. Each leg of the star leg structure is near-horizontal to the ground plane.', 'parts': ['central_support', 'mechanical_control', 'footrest_ring', 'star_leg_set', 'seat_connector'], 'default_part_num': [1, 0, 0, 1, 0]}, {'name': 'central_support', 'label': 'Central Support', 'gloss': 'a central supporting part that connects the chair seat and the chair legs/pedestal bases. It often occurs in office chairs and pedestal chairs. Please annotate each central supports individually if there are many.'}, {'name': 'mechanical_control', 'label': 'Mechanical Control', 'gloss': 'a complex mechanical control part that is often used to lift the chair central cylinder or to swivel the chair. Just label one holistic part for each control unit. There is no need to label the mechanical details. Please use the option other to label the part we do not include in the list.', 'parts': ['lever', 'knob', 'button', 'mounting_plate'], 'default_part_num': [1, 1, 0, 1]}, {'name': 'lever', 'label': 'Lever', 'gloss': 'a rigid bar pivoted about a fulcrum'}, {'name': 'knob', 'label': 'Knob', 'gloss': 'a round handle'}, {'name': 'button', 'label': 'Button', 'gloss': 'an electrical switch operated by pressing'}, {'name': 'mounting_plate', 'label': 'Mounting Plane', 'gloss': 'a sheet of metal or wood or glass or plastic'}, {'name': 'footrest_ring', 'label': 'Footrest Ring', 'gloss': 'a ring-shape part that is designed to support human feet, mounted on the central supports and on top of the chair legs', 'parts': ['footrest_bar', 'footrest_circular'], 'default_part_num': [1, 4]}, {'name': 'footrest_bar', 'label': 'Footrest Bar', 'gloss': 'a bar-shape part on footrest'}, {'name': 'footrest_circular', 'label': 'Footrest Circle', 'gloss': 'a circular part on footrest'}, {'name': 'pedestal_base', 'label': 'Pedestal Base', 'gloss': 'a chair base that includes a big pedestal part that contacts with the ground', 'parts': ['central_support', 'mechanical_control', 'footrest_ring', 'pedestal', 'seat_connector'], 'default_part_num': [1, 0, 0, 1, 0]}, {'name': 'pedestal', 'label': 'Pedestal', 'gloss': 'a big chunk of geometry that contacts the ground to stablize the chair'}, {'name': 'foot_base', 'label': 'Foot Base', 'gloss': 'a chair base that contacts the ground via foots/casters. There is no long vertical leg in the base.', 'parts': ['short_leg', 'foot', 'caster', 'seat_connector'], 'default_part_num': [0, 4, 0, 0]}, {'name': 'short_leg', 'label': 'Short Leg', 'gloss': 'a very short leg that connects the chair seat and the chair foot/wheels'}, {'name': 'surface_base', 'label': 'Surface Base', 'gloss': 'a chair base that contacts the ground with some big area. There could be some vertical leg parts.', 'parts': ['ground_surface', 'side_surface', 'leg', 'foot', 'caster', 'bar_stretcher', 'circular_stretcher', 'seat_connector'], 'default_part_num': [1, 1, 0, 0, 0, 0, 0, 0]}, {'name': 'ground_surface', 'label': 'Ground Surface', 'gloss': 'a board-like part that touches the ground totally'}, {'name': 'side_surface', 'label': 'Side Surface', 'gloss': 'a board-like part that supports the chair'}, {'name': 'star_leg_set', 'label': 'Star-shape Leg Set', 'gloss': 'a star shape structure that contains many legs and the correlated foots or casters', 'parts': ['leg', 'foot', 'caster'], 'default_part_num': [5, 0, 5]}, {'name': 'leg', 'label': 'Leg', 'gloss': 'one of the supports for a piece of furniture'}, {'name': 'foot', 'label': 'Foot', 'gloss': 'a support resembling a pedal extremity'}, {'name': 'caster', 'label': 'Wheel Assembly', 'gloss': 'a pivoting roller attached to the bottom of furniture or trucks or portable machines to make them movable', 'parts': ['caster_yoke', 'caster_stem', 'caster_mounting_plate', 'wheel', 'brake'], 'default_part_num': [1, 0, 0, 2, 0]}, {'name': 'brake', 'label': 'Brake', 'gloss': 'a restraint used to slow or stop a vehicle'}, {'name': 'caster_yoke', 'label': 'Caster Yoke', 'gloss': 'forked part for connecting wheel to mounting plate'}, {'name': 'caster_stem', 'label': 'Caster Stem', 'gloss': 'post part of caster rig'}, {'name': 'caster_mounting_plate', 'label': 'Mounting Plate', 'gloss': 'a sheet of metal or wood or glass or plastic'}, {'name': 'wheel', 'label': 'Wheel', 'gloss': 'a simple machine consisting of a circular frame with spokes (or a solid disc) that can rotate on a shaft or axle (as in vehicles or other machines)'}]}\n"
          ],
          "name": "stdout"
        }
      ]
    },
    {
      "cell_type": "code",
      "metadata": {
        "id": "crq2Yv92I0du",
        "outputId": "8619acc9-dfab-4c56-8dd8-19c5e1961081",
        "colab": {
          "base_uri": "https://localhost:8080/",
          "height": 572
        }
      },
      "source": [
        "Layers = {}\n",
        "import torch\n",
        "\n",
        "def compute(root):\n",
        "  for item in root:\n",
        "    current = item['text']\n",
        "    childrens = item.get('children')\n",
        "    \n",
        "    # AND or OR node\n",
        "    if (childrens):\n",
        "      \n",
        "      # OR node\n",
        "      if (len(childrens) == 1):\n",
        "        print(\"OR Node\")\n",
        "        dict_entry = str(item['name']) + \"_\" + str(item['id'])\n",
        "        print(dict_entry)\n",
        "        compute(childrens)\n",
        "      \n",
        "      # AND node\n",
        "      else:\n",
        "        features = {}\n",
        "        #features[current] = merge([compute(node) for node in childrens])\n",
        "\n",
        "        #print(childrens)\n",
        "        print(\"AND Node\")\n",
        "        dict_entry = str(item['name']) + \"_\" + str(item['id'])\n",
        "        print(dict_entry)\n",
        "        compute(childrens)\n",
        "\n",
        "    # LEAF node\n",
        "    else:\n",
        "      print(\"LEAF Node\")\n",
        "      dict_entry = str(item['name']) + \"_\" + str(item['id']) \n",
        "      print(dict_entry)\n",
        "\n",
        "def merge(features):\n",
        "  return features.max(dim=0)\n",
        "\n",
        "compute(result_data)"
      ],
      "execution_count": 4,
      "outputs": [
        {
          "output_type": "stream",
          "text": [
            "AND Node\n",
            "chair_0\n",
            "OR Node\n",
            "chair_base_5\n",
            "AND Node\n",
            "regular_leg_base_6\n",
            "LEAF Node\n",
            "bar_stretcher_12\n",
            "LEAF Node\n",
            "leg_13\n",
            "LEAF Node\n",
            "leg_14\n",
            "LEAF Node\n",
            "leg_15\n",
            "LEAF Node\n",
            "leg_16\n",
            "LEAF Node\n",
            "bar_stretcher_17\n",
            "LEAF Node\n",
            "bar_stretcher_18\n",
            "OR Node\n",
            "chair_back_19\n",
            "OR Node\n",
            "back_surface_23\n",
            "LEAF Node\n",
            "back_hard_surface_24\n",
            "OR Node\n",
            "chair_seat_20\n",
            "OR Node\n",
            "seat_surface_21\n",
            "LEAF Node\n",
            "seat_hard_surface_22\n"
          ],
          "name": "stdout"
        }
      ]
    },
    {
      "cell_type": "code",
      "metadata": {
        "id": "1Frls8nDgPpC",
        "outputId": "e249f650-ed72-4a31-e040-13361d0a8861",
        "colab": {
          "base_uri": "https://localhost:8080/",
          "height": 72
        }
      },
      "source": [
        "AND_nodes = [\"Sitting Furniture\", \"Chair Head\", \"Chair Back\",\n",
        "             \"Chair Arm\", \"Chair Seat\", \"Regular Leg Base\",\n",
        "             \"Star-shape Leg Base\", \"Mechanical Control\", \"Footrest Ring\",\n",
        "             \"Pedestal Base\", \"Foot Base\", \"Surface Base\", \"Star-shape Leg Set\",\n",
        "             \"Wheel Assembly\"]\n",
        "OR_nodes = [\"Back Surface\", \"Back Frame\", \"Seat Surface\", \"Seat Frame\", \n",
        "            \"Footrest\", \"Chair Base\"]\n",
        "LEAF_nodes = [\"Head Rest\", \"Head Connector\", \"Back Hard Surface\",\n",
        "              \"Back Soft Surface\", \"Back Support\", \"Back Holistic Frame\",\n",
        "              \"Back Surface Vertical Bar\", \"Back Surface Horizontal Bar\",\n",
        "              \"Back Surface Slant Bar\", \"Back Frame Horizontal Bar\", \n",
        "              \"Back Frame Slant Bar\", \"Back Frame Vertical Bar\", \"Back Complex Decoration\",\n",
        "              \"Back Connector\", \"Armrest Hard Surface\", \"Armrest Soft Surface\",\n",
        "              \"Arm Horizontal Bar\", \"Arm Vertical Bar\", \"Arm Slant Bar\", \n",
        "              \"Arm Holistic Frame\", \"Sofa-style Arm\", \"Arm Writing Table\",\n",
        "              \"Arm Connector\", \"Seat Hard Surface\", \"Seat Soft Surface\",\n",
        "              \"Seat Support\", \"Seat Surface Vertical Bar\",\n",
        "              \"Seat Surface Horizontal Bar\", \"Seat Surface Slant Bar\",\n",
        "              \"Seat Frame Vertical Bar\", \"Seat Frame Horizontal Bar\",\n",
        "              \"Seat Frame Slant Bar\", \"Seat Holistic Frame\", \"Pillow\",\n",
        "              \"Footrest Connector\", \"Bar Stretcher\", \"Circular Stretcher\",\n",
        "              \"Runner\", \"Rocker\", \"Seat Connector\", \"Central Support\",\n",
        "              \"Lever\", \"Knob\", \"Button\", \"Mounting Plane\", \"Footrest Bar\",\n",
        "              \"Footrest Circle\", \"Pedestal\", \"Short Leg\", \"Ground Surface\",\n",
        "              \"Side Surface\", \"Leg\", \"Foot\", \"Brake\", \"Caster Yoke\", \"Caster Stem\",\n",
        "              \"Mounting Plate\", \"Wheel\"]\n",
        "\n",
        "def parse_chair(chair):\n",
        "  error_flag = False\n",
        "  Tree_Layers = []\n",
        "  Dest_Layers = []\n",
        "  Stell_Src = []\n",
        "  Stell_Dest = []\n",
        "  def compute_tree(root):\n",
        "    for item in root:\n",
        "      current = item['text']\n",
        "      #print(current)\n",
        "      childrens = item.get('children')\n",
        "      #print(childrens)\n",
        "      # AND or OR node  \n",
        "      if (childrens):\n",
        "        source = str(item['name']) + \"_\" + str(item['id'])\n",
        "        Tree_Layers.append(source)\n",
        "        stell_source = str(item['text'])\n",
        "        Stell_Src.append(stell_source)\n",
        "        this_children = childrens\n",
        "        Dest_Layers_current = []\n",
        "        Stell_Dest_current = []\n",
        "        for i in this_children:\n",
        "          current_i = (str(i['name']) + \"_\" + str(i['id']))\n",
        "          #print(current_i)\n",
        "          Dest_Layers_current.append(current_i)\n",
        "          Stell_Dest_current.append(str(i['text']))\n",
        "        Dest_Layers.append(Dest_Layers_current)\n",
        "        Stell_Dest.append(Stell_Dest_current)\n",
        "        # AND node\n",
        "        if (current in AND_nodes):\n",
        "          #print(\"AND Node\")\n",
        "          dict_entry = str(item['name']) + \"_\" + str(item['id'])\n",
        "          #print(dict_entry)\n",
        "          compute_tree(childrens)\n",
        "\n",
        "        elif (current in OR_nodes):\n",
        "          #print(\"OR Node\")\n",
        "          dict_entry = str(item['name']) + \"_\" + str(item['id'])\n",
        "          #print(dict_entry)\n",
        "          compute_tree(childrens)\n",
        "\n",
        "        else:\n",
        "          error_flag = True\n",
        "          return\n",
        "\n",
        "      else:\n",
        "\n",
        "        # LEAF node\n",
        "        if (current in LEAF_nodes):\n",
        "          #print(\"LEAF Node\")\n",
        "          dict_entry = str(item['name']) + \"_\" + str(item['id'])\n",
        "          #print(dict_entry)\n",
        "          #compute_tree(childrens)\n",
        "\n",
        "        else:\n",
        "          print(\"Error in classification.\")\n",
        "          return\n",
        "\n",
        "  compute_tree(chair)\n",
        "  if (error_flag == True):\n",
        "    return [[],[]]\n",
        "\n",
        "  print([Tree_Layers, Dest_Layers])\n",
        "  return [Stell_Src, Stell_Dest]\n",
        "\n",
        "print(parse_chair(result_data))"
      ],
      "execution_count": 5,
      "outputs": [
        {
          "output_type": "stream",
          "text": [
            "[['chair_0', 'chair_base_5', 'regular_leg_base_6', 'chair_back_19', 'back_surface_23', 'chair_seat_20', 'seat_surface_21'], [['chair_base_5', 'chair_back_19', 'chair_seat_20'], ['regular_leg_base_6'], ['bar_stretcher_12', 'leg_13', 'leg_14', 'leg_15', 'leg_16', 'bar_stretcher_17', 'bar_stretcher_18'], ['back_surface_23'], ['back_hard_surface_24'], ['seat_surface_21'], ['seat_hard_surface_22']]]\n",
            "[['Sitting Furniture', 'Chair Base', 'Regular Leg Base', 'Chair Back', 'Back Surface', 'Chair Seat', 'Seat Surface'], [['Chair Base', 'Chair Back', 'Chair Seat'], ['Regular Leg Base'], ['Bar Stretcher', 'Leg', 'Leg', 'Leg', 'Leg', 'Bar Stretcher', 'Bar Stretcher'], ['Back Surface'], ['Back Hard Surface'], ['Seat Surface'], ['Seat Hard Surface']]]\n"
          ],
          "name": "stdout"
        }
      ]
    },
    {
      "cell_type": "code",
      "metadata": {
        "id": "QZQwNw8QAcHo"
      },
      "source": [
        "import pickle \n",
        "sit_data = pickle.load(open(\"sit_data_2.pkl\", \"rb\"))"
      ],
      "execution_count": 7,
      "outputs": []
    },
    {
      "cell_type": "code",
      "metadata": {
        "id": "NqY8hOWMEDzB",
        "outputId": "ec63179f-20f2-4653-ec08-6648d35cdc3d",
        "colab": {
          "base_uri": "https://localhost:8080/",
          "height": 55
        }
      },
      "source": [
        "all_chair = []\n",
        "chair_folder = '/content/drive/My Drive/Colab Notebooks/GraphNN/OBB/Chair'\n",
        "import os\n",
        "for d in os.listdir(chair_folder):\n",
        "  all_chair.append(d[:-4])\n",
        "\n",
        "print(all_chair)"
      ],
      "execution_count": 9,
      "outputs": [
        {
          "output_type": "stream",
          "text": [
            "['313C1FCC', '2D2C7514', 'DDCDEB1B', '02D23CEC', 'A55359B8', 'D1368CC9', 'BD564507', '92F001A2', '8F33260A', '1F550C17', '08C198E9', '90B5D32C', 'F5C05823', 'EE724C57', 'BDE777B6', '47571A16', 'F97B5A55', 'D3C6D323', '96FF362A', '32ECE3BC', '1FF3CC2E', '.ipynb_checkpo']\n"
          ],
          "name": "stdout"
        }
      ]
    },
    {
      "cell_type": "code",
      "metadata": {
        "id": "eQ4GJK2Hv1F4",
        "outputId": "53f10c1c-5495-4599-c1e0-4a546f024d60",
        "colab": {
          "base_uri": "https://localhost:8080/",
          "height": 124
        }
      },
      "source": [
        "annotations_folder = '/content/drive/My Drive/Colab Notebooks/GraphNN/annotations'\n",
        "folders = []\n",
        "models = []\n",
        "model_folder = []\n",
        "for d in os.listdir(annotations_folder):\n",
        "  for x in os.listdir('/content/drive/My Drive/Colab Notebooks/GraphNN/annotations/{}'.format(d)):\n",
        "    current_dir = '/content/drive/My Drive/Colab Notebooks/GraphNN/annotations/{}'.format(d)\n",
        "    if (x == \"meta.json\"):\n",
        "      current_file = '{}/meta.json'.format(current_dir)\n",
        "      with open(current_file) as to_parse:\n",
        "        json_output = json.load(to_parse)\n",
        "        model = json_output['model_id']\n",
        "        if (model in all_chair):\n",
        "          models.append(model)\n",
        "          folders.append(d)\n",
        "          model_folder.append([model,d])\n",
        "\n",
        "print(folders)\n",
        "print(len(folders))\n",
        "from collections import Counter\n",
        "print(len(models))\n",
        "print(Counter(models))\n",
        "print(model_folder)"
      ],
      "execution_count": 10,
      "outputs": [
        {
          "output_type": "stream",
          "text": [
            "['90_1', '98_1', '97_1', '94_1', '89_1', '92_1', '99_1', '91_1', '67_3', '68_2', '68_1', '67_2', '66_1', '113_1', '112_1', '111_1', '109_1', '111_2', '110_2', '110_1', '104_2', '108_1', '105_1', '101_1', '104_1', '100_1']\n",
            "26\n",
            "26\n",
            "Counter({'08C198E9': 2, '1F550C17': 2, 'EE724C57': 2, 'DDCDEB1B': 2, 'BD564507': 2, '2D2C7514': 1, '90B5D32C': 1, '8F33260A': 1, '47571A16': 1, '1FF3CC2E': 1, '32ECE3BC': 1, '92F001A2': 1, '313C1FCC': 1, '02D23CEC': 1, 'F97B5A55': 1, 'F5C05823': 1, 'D3C6D323': 1, 'D1368CC9': 1, 'BDE777B6': 1, 'A55359B8': 1, '96FF362A': 1})\n",
            "[['2D2C7514', '90_1'], ['90B5D32C', '98_1'], ['8F33260A', '97_1'], ['47571A16', '94_1'], ['1FF3CC2E', '89_1'], ['32ECE3BC', '92_1'], ['92F001A2', '99_1'], ['313C1FCC', '91_1'], ['08C198E9', '67_3'], ['1F550C17', '68_2'], ['1F550C17', '68_1'], ['08C198E9', '67_2'], ['02D23CEC', '66_1'], ['F97B5A55', '113_1'], ['F5C05823', '112_1'], ['EE724C57', '111_1'], ['D3C6D323', '109_1'], ['EE724C57', '111_2'], ['DDCDEB1B', '110_2'], ['DDCDEB1B', '110_1'], ['BD564507', '104_2'], ['D1368CC9', '108_1'], ['BDE777B6', '105_1'], ['A55359B8', '101_1'], ['BD564507', '104_1'], ['96FF362A', '100_1']]\n"
          ],
          "name": "stdout"
        }
      ]
    },
    {
      "cell_type": "code",
      "metadata": {
        "id": "jZarnURL1iPg",
        "outputId": "e5571df3-4895-4453-9358-29615265e12d",
        "colab": {
          "base_uri": "https://localhost:8080/",
          "height": 72
        }
      },
      "source": [
        "json_to_parse = []\n",
        "for d in os.listdir(annotations_folder):\n",
        "  if (d not in folders):\n",
        "    continue\n",
        "  else:\n",
        "    for x in os.listdir('/content/drive/My Drive/Colab Notebooks/GraphNN/annotations/{}'.format(d)):\n",
        "      current_dir = '/content/drive/My Drive/Colab Notebooks/GraphNN/annotations/{}'.format(d)\n",
        "      if (x == \"result.json\"):\n",
        "        current_file = '{}/result.json'.format(current_dir)\n",
        "        with open(current_file) as to_parse:\n",
        "          json_output = json.load(to_parse)\n",
        "          json_to_parse.append(json_output)\n",
        "\n",
        "print(len(json_to_parse))\n",
        "print(json_to_parse)"
      ],
      "execution_count": 11,
      "outputs": [
        {
          "output_type": "stream",
          "text": [
            "26\n",
            "[[{'text': 'Sitting Furniture', 'children': [{'text': 'Chair Back', 'children': [{'text': 'Back Surface', 'children': [{'text': 'Back Hard Surface', 'objs': ['new-15'], 'id': 18, 'name': 'back_hard_surface'}], 'id': 17, 'name': 'back_surface'}], 'id': 1, 'name': 'chair_back'}, {'text': 'Chair Arm', 'children': [{'text': 'Armrest Hard Surface', 'objs': ['new-17'], 'id': 15, 'name': 'armrest_hard_surface'}, {'text': 'Arm Vertical Bar', 'objs': ['new-16'], 'id': 16, 'name': 'arm_vertical_bar'}], 'id': 2, 'name': 'chair_arm'}, {'text': 'Chair Arm', 'children': [{'text': 'Armrest Hard Surface', 'objs': ['new-13'], 'id': 13, 'name': 'armrest_hard_surface'}, {'text': 'Arm Vertical Bar', 'objs': ['new-12'], 'id': 14, 'name': 'arm_vertical_bar'}], 'id': 3, 'name': 'chair_arm'}, {'text': 'Chair Seat', 'children': [{'text': 'Seat Surface', 'children': [{'text': 'Seat Hard Surface', 'objs': ['new-8'], 'id': 12, 'name': 'seat_hard_surface'}], 'id': 11, 'name': 'seat_surface'}], 'id': 4, 'name': 'chair_seat'}, {'text': 'Chair Base', 'children': [{'text': 'Regular Leg Base', 'children': [{'text': 'Leg', 'objs': ['new-6'], 'id': 7, 'name': 'leg'}, {'text': 'Leg', 'objs': ['new-4'], 'id': 8, 'name': 'leg'}, {'text': 'Leg', 'objs': ['new-2'], 'id': 9, 'name': 'leg'}, {'text': 'Leg', 'objs': ['new-0'], 'id': 10, 'name': 'leg'}], 'id': 6, 'name': 'regular_leg_base'}], 'id': 5, 'name': 'chair_base'}], 'id': 0, 'name': 'chair'}], [{'text': 'Sitting Furniture', 'children': [{'text': 'Chair Back', 'children': [{'text': 'Back Surface', 'children': [{'text': 'Back Hard Surface', 'objs': ['original-1'], 'id': 3, 'name': 'back_hard_surface'}], 'id': 2, 'name': 'back_surface'}], 'id': 1, 'name': 'chair_back'}], 'id': 0, 'name': 'chair'}], [{'text': 'Sitting Furniture', 'children': [{'text': 'Chair Back', 'children': [{'text': 'Back Surface', 'children': [{'text': 'Back Hard Surface', 'objs': ['new-17'], 'id': 18, 'name': 'back_hard_surface'}], 'id': 17, 'name': 'back_surface'}], 'id': 1, 'name': 'chair_back'}, {'text': 'Chair Arm', 'children': [{'text': 'Armrest Hard Surface', 'objs': ['new-16'], 'id': 15, 'name': 'armrest_hard_surface'}, {'text': 'Arm Vertical Bar', 'objs': ['new-14'], 'id': 16, 'name': 'arm_vertical_bar'}], 'id': 2, 'name': 'chair_arm'}, {'text': 'Chair Arm', 'children': [{'text': 'Armrest Hard Surface', 'objs': ['new-12'], 'id': 13, 'name': 'armrest_hard_surface'}, {'text': 'Arm Vertical Bar', 'objs': ['new-10'], 'id': 14, 'name': 'arm_vertical_bar'}], 'id': 3, 'name': 'chair_arm'}, {'text': 'Chair Seat', 'children': [{'text': 'Seat Surface', 'children': [{'text': 'Seat Hard Surface', 'objs': ['new-8'], 'id': 12, 'name': 'seat_hard_surface'}], 'id': 11, 'name': 'seat_surface'}], 'id': 4, 'name': 'chair_seat'}, {'text': 'Chair Base', 'children': [{'text': 'Regular Leg Base', 'children': [{'text': 'Leg', 'objs': ['new-6'], 'id': 7, 'name': 'leg'}, {'text': 'Leg', 'objs': ['new-4'], 'id': 8, 'name': 'leg'}, {'text': 'Leg', 'objs': ['new-2'], 'id': 9, 'name': 'leg'}, {'text': 'Leg', 'objs': ['new-0'], 'id': 10, 'name': 'leg'}], 'id': 6, 'name': 'regular_leg_base'}], 'id': 5, 'name': 'chair_base'}], 'id': 0, 'name': 'chair'}], [{'text': 'Sitting Furniture', 'children': [{'text': 'Chair Back', 'children': [{'text': 'Back Surface', 'children': [{'text': 'Back Hard Surface', 'objs': ['new-23'], 'id': 31, 'name': 'back_hard_surface'}], 'id': 30, 'name': 'back_surface'}], 'id': 1, 'name': 'chair_back'}, {'text': 'Chair Arm', 'children': [{'text': 'Armrest Hard Surface', 'objs': ['new-26'], 'id': 29, 'name': 'armrest_hard_surface'}], 'id': 2, 'name': 'chair_arm'}, {'text': 'Chair Arm', 'children': [{'text': 'Armrest Hard Surface', 'objs': ['new-24'], 'id': 28, 'name': 'armrest_hard_surface'}], 'id': 3, 'name': 'chair_arm'}, {'text': 'Chair Seat', 'children': [{'text': 'Seat Surface', 'children': [{'text': 'Seat Hard Surface', 'objs': ['new-27'], 'id': 27, 'name': 'seat_hard_surface'}], 'id': 26, 'name': 'seat_surface'}], 'id': 4, 'name': 'chair_seat'}, {'text': 'Chair Base', 'children': [{'text': 'Star-shape Leg Base', 'children': [{'text': 'Central Support', 'objs': ['new-21'], 'id': 7, 'name': 'central_support'}, {'text': 'Star-shape Leg Set', 'children': [{'text': 'Leg', 'objs': ['new-20'], 'id': 9, 'name': 'leg'}, {'text': 'Leg', 'objs': ['new-18'], 'id': 10, 'name': 'leg'}, {'text': 'Leg', 'objs': ['new-16'], 'id': 11, 'name': 'leg'}, {'text': 'Leg', 'objs': ['new-14'], 'id': 12, 'name': 'leg'}, {'text': 'Leg', 'objs': ['new-12'], 'id': 13, 'name': 'leg'}, {'text': 'Wheel Assembly', 'children': [{'text': 'Wheel', 'objs': ['new-10'], 'id': 23, 'name': 'wheel'}], 'id': 14, 'name': 'caster'}, {'text': 'Wheel Assembly', 'children': [{'text': 'Wheel', 'objs': ['new-8'], 'id': 22, 'name': 'wheel'}], 'id': 15, 'name': 'caster'}, {'text': 'Wheel Assembly', 'children': [{'text': 'Wheel', 'objs': ['new-6'], 'id': 21, 'name': 'wheel'}], 'id': 16, 'name': 'caster'}, {'text': 'Wheel Assembly', 'children': [{'text': 'Wheel', 'objs': ['new-4'], 'id': 20, 'name': 'wheel'}], 'id': 17, 'name': 'caster'}, {'text': 'Wheel Assembly', 'children': [{'text': 'Wheel', 'objs': ['new-2'], 'id': 19, 'name': 'wheel'}], 'id': 18, 'name': 'caster'}], 'id': 8, 'name': 'star_leg_set'}], 'id': 6, 'name': 'star_leg_base'}], 'id': 5, 'name': 'chair_base'}], 'id': 0, 'name': 'chair'}], [{'text': 'Sitting Furniture', 'children': [{'text': 'Chair Back', 'children': [{'text': 'Back Surface', 'children': [{'text': 'Back Hard Surface', 'objs': ['new-31'], 'id': 32, 'name': 'back_hard_surface'}], 'id': 31, 'name': 'back_surface'}], 'id': 1, 'name': 'chair_back'}, {'text': 'Chair Arm', 'children': [{'text': 'Armrest Hard Surface', 'objs': ['new-29'], 'id': 29, 'name': 'armrest_hard_surface'}, {'text': 'Arm Vertical Bar', 'objs': ['new-28'], 'id': 30, 'name': 'arm_vertical_bar'}], 'id': 2, 'name': 'chair_arm'}, {'text': 'Chair Arm', 'children': [{'text': 'Armrest Hard Surface', 'objs': ['new-26'], 'id': 27, 'name': 'armrest_hard_surface'}, {'text': 'Arm Vertical Bar', 'objs': ['new-24'], 'id': 28, 'name': 'arm_vertical_bar'}], 'id': 3, 'name': 'chair_arm'}, {'text': 'Chair Seat', 'children': [{'text': 'Seat Surface', 'children': [{'text': 'Seat Hard Surface', 'objs': ['new-30'], 'id': 26, 'name': 'seat_hard_surface'}], 'id': 25, 'name': 'seat_surface'}], 'id': 4, 'name': 'chair_seat'}, {'text': 'Chair Base', 'children': [{'text': 'Star-shape Leg Base', 'children': [{'text': 'Central Support', 'objs': ['new-12'], 'id': 8, 'name': 'central_support'}, {'text': 'Star-shape Leg Set', 'children': [{'text': 'Leg', 'objs': ['new-21'], 'id': 10, 'name': 'leg'}, {'text': 'Leg', 'objs': ['new-20'], 'id': 11, 'name': 'leg'}, {'text': 'Leg', 'objs': ['new-18'], 'id': 12, 'name': 'leg'}, {'text': 'Leg', 'objs': ['new-16'], 'id': 13, 'name': 'leg'}, {'text': 'Leg', 'objs': ['new-14'], 'id': 14, 'name': 'leg'}, {'text': 'Wheel Assembly', 'children': [{'text': 'Wheel', 'objs': ['new-10'], 'id': 24, 'name': 'wheel'}], 'id': 15, 'name': 'caster'}, {'text': 'Wheel Assembly', 'children': [{'text': 'Wheel', 'objs': ['new-8'], 'id': 23, 'name': 'wheel'}], 'id': 16, 'name': 'caster'}, {'text': 'Wheel Assembly', 'children': [{'text': 'Wheel', 'objs': ['new-6'], 'id': 22, 'name': 'wheel'}], 'id': 17, 'name': 'caster'}, {'text': 'Wheel Assembly', 'children': [{'text': 'Wheel', 'objs': ['new-4'], 'id': 21, 'name': 'wheel'}], 'id': 18, 'name': 'caster'}, {'text': 'Wheel Assembly', 'children': [{'text': 'Wheel', 'objs': ['new-2'], 'id': 20, 'name': 'wheel'}], 'id': 19, 'name': 'caster'}], 'id': 9, 'name': 'star_leg_set'}], 'id': 7, 'name': 'star_leg_base'}], 'id': 5, 'name': 'chair_base'}], 'id': 0, 'name': 'chair'}], [{'text': 'Sitting Furniture', 'children': [{'text': 'Chair Back', 'children': [{'text': 'Back Surface', 'children': [{'text': 'Back Hard Surface', 'objs': ['new-21'], 'id': 20, 'name': 'back_hard_surface'}], 'id': 19, 'name': 'back_surface'}], 'id': 1, 'name': 'chair_back'}, {'text': 'Chair Arm', 'children': [{'text': 'Armrest Hard Surface', 'objs': ['new-20'], 'id': 17, 'name': 'armrest_hard_surface'}, {'text': 'Arm Vertical Bar', 'objs': ['new-18'], 'id': 18, 'name': 'arm_vertical_bar'}], 'id': 2, 'name': 'chair_arm'}, {'text': 'Chair Arm', 'children': [{'text': 'Armrest Hard Surface', 'objs': ['new-16'], 'id': 15, 'name': 'armrest_hard_surface'}, {'text': 'Arm Vertical Bar', 'objs': ['new-14'], 'id': 16, 'name': 'arm_vertical_bar'}], 'id': 3, 'name': 'chair_arm'}, {'text': 'Chair Seat', 'children': [{'text': 'Seat Surface', 'children': [{'text': 'Seat Hard Surface', 'objs': ['new-12'], 'id': 14, 'name': 'seat_hard_surface'}], 'id': 13, 'name': 'seat_surface'}], 'id': 4, 'name': 'chair_seat'}, {'text': 'Chair Base', 'children': [{'text': 'Regular Leg Base', 'children': [{'text': 'Leg', 'objs': ['new-10'], 'id': 7, 'name': 'leg'}, {'text': 'Leg', 'objs': ['new-8'], 'id': 8, 'name': 'leg'}, {'text': 'Leg', 'objs': ['new-6'], 'id': 9, 'name': 'leg'}, {'text': 'Leg', 'objs': ['new-4'], 'id': 10, 'name': 'leg'}, {'text': 'Bar Stretcher', 'objs': ['new-2'], 'id': 11, 'name': 'bar_stretcher'}, {'text': 'Bar Stretcher', 'objs': ['new-0'], 'id': 12, 'name': 'bar_stretcher'}], 'id': 6, 'name': 'regular_leg_base'}], 'id': 5, 'name': 'chair_base'}], 'id': 0, 'name': 'chair'}], [{'text': 'Sitting Furniture', 'children': [{'text': 'Chair Seat', 'children': [{'text': 'Seat Surface', 'children': [{'text': 'Seat Hard Surface', 'objs': ['new-1'], 'id': 17, 'name': 'seat_hard_surface'}], 'id': 16, 'name': 'seat_surface'}], 'id': 1, 'name': 'chair_seat'}, {'text': 'Chair Base', 'children': [{'text': 'Regular Leg Base', 'children': [{'text': 'Leg', 'objs': ['new-8'], 'id': 4, 'name': 'leg'}, {'text': 'Leg', 'objs': ['new-6'], 'id': 5, 'name': 'leg'}, {'text': 'Leg', 'objs': ['new-2'], 'id': 6, 'name': 'leg'}, {'text': 'Leg', 'objs': ['new-4'], 'id': 7, 'name': 'leg'}, {'text': 'Bar Stretcher', 'objs': ['new-24'], 'id': 8, 'name': 'bar_stretcher'}, {'text': 'Bar Stretcher', 'objs': ['new-22'], 'id': 9, 'name': 'bar_stretcher'}, {'text': 'Bar Stretcher', 'objs': ['new-20'], 'id': 10, 'name': 'bar_stretcher'}, {'text': 'Bar Stretcher', 'objs': ['new-18'], 'id': 11, 'name': 'bar_stretcher'}, {'text': 'Bar Stretcher', 'objs': ['new-16'], 'id': 12, 'name': 'bar_stretcher'}, {'text': 'Bar Stretcher', 'objs': ['new-14'], 'id': 13, 'name': 'bar_stretcher'}, {'text': 'Bar Stretcher', 'objs': ['new-12'], 'id': 14, 'name': 'bar_stretcher'}, {'text': 'Bar Stretcher', 'objs': ['new-10'], 'id': 15, 'name': 'bar_stretcher'}], 'id': 3, 'name': 'regular_leg_base'}], 'id': 2, 'name': 'chair_base'}], 'id': 0, 'name': 'chair'}], [{'text': 'Sitting Furniture', 'children': [{'text': 'Chair Seat', 'children': [{'text': 'Seat Surface', 'children': [{'text': 'Seat Hard Surface', 'objs': ['new-8'], 'id': 12, 'name': 'seat_hard_surface'}], 'id': 11, 'name': 'seat_surface'}], 'id': 4, 'name': 'chair_seat'}, {'text': 'Chair Base', 'children': [{'text': 'Regular Leg Base', 'children': [{'text': 'Leg', 'objs': ['new-6'], 'id': 7, 'name': 'leg'}, {'text': 'Leg', 'objs': ['new-4'], 'id': 8, 'name': 'leg'}, {'text': 'Leg', 'objs': ['new-2'], 'id': 9, 'name': 'leg'}, {'text': 'Leg', 'objs': ['new-0'], 'id': 10, 'name': 'leg'}], 'id': 6, 'name': 'regular_leg_base'}], 'id': 5, 'name': 'chair_base'}, {'text': 'Chair Back', 'children': [{'text': 'Back Surface', 'children': [{'text': 'Back Hard Surface', 'objs': ['new-9'], 'id': 15, 'name': 'back_hard_surface'}], 'id': 14, 'name': 'back_surface'}], 'id': 13, 'name': 'chair_back'}], 'id': 0, 'name': 'chair'}], [{'text': 'Sitting Furniture', 'children': [{'text': 'Chair Back', 'children': [{'text': 'Back Surface', 'children': [{'text': 'Back Hard Surface', 'objs': ['new-21'], 'id': 18, 'name': 'back_hard_surface'}], 'id': 17, 'name': 'back_surface'}], 'id': 1, 'name': 'chair_back'}, {'text': 'Chair Arm', 'children': [{'text': 'Armrest Hard Surface', 'objs': ['new-26'], 'id': 13, 'name': 'armrest_hard_surface'}, {'text': 'Arm Vertical Bar', 'objs': ['new-25'], 'id': 14, 'name': 'arm_vertical_bar'}], 'id': 2, 'name': 'chair_arm'}, {'text': 'Chair Arm', 'children': [{'text': 'Armrest Hard Surface', 'objs': ['new-28'], 'id': 15, 'name': 'armrest_hard_surface'}, {'text': 'Arm Vertical Bar', 'objs': ['new-27'], 'id': 16, 'name': 'arm_vertical_bar'}], 'id': 3, 'name': 'chair_arm'}, {'text': 'Chair Seat', 'children': [{'text': 'Seat Surface', 'children': [{'text': 'Seat Hard Surface', 'objs': ['new-19'], 'id': 12, 'name': 'seat_hard_surface'}], 'id': 11, 'name': 'seat_surface'}], 'id': 4, 'name': 'chair_seat'}, {'text': 'Chair Base', 'children': [{'text': 'Regular Leg Base', 'children': [{'text': 'Leg', 'objs': ['new-17'], 'id': 7, 'name': 'leg'}, {'text': 'Leg', 'objs': ['new-15'], 'id': 8, 'name': 'leg'}, {'text': 'Leg', 'objs': ['new-13'], 'id': 9, 'name': 'leg'}, {'text': 'Leg', 'objs': ['new-11'], 'id': 10, 'name': 'leg'}], 'id': 6, 'name': 'regular_leg_base'}], 'id': 5, 'name': 'chair_base'}], 'id': 0, 'name': 'chair'}], [{'text': 'Sitting Furniture', 'children': [{'text': 'Chair Back', 'children': [{'text': 'Back Surface', 'children': [{'text': 'Back Hard Surface', 'objs': ['new-10'], 'id': 18, 'name': 'back_hard_surface'}], 'id': 17, 'name': 'back_surface'}], 'id': 1, 'name': 'chair_back'}, {'text': 'Chair Arm', 'children': [{'text': 'Armrest Hard Surface', 'objs': ['new-15'], 'id': 13, 'name': 'armrest_hard_surface'}, {'text': 'Arm Vertical Bar', 'objs': ['new-14'], 'id': 14, 'name': 'arm_vertical_bar'}], 'id': 2, 'name': 'chair_arm'}, {'text': 'Chair Arm', 'children': [{'text': 'Armrest Hard Surface', 'objs': ['new-17'], 'id': 15, 'name': 'armrest_hard_surface'}, {'text': 'Arm Vertical Bar', 'objs': ['new-16'], 'id': 16, 'name': 'arm_vertical_bar'}], 'id': 3, 'name': 'chair_arm'}, {'text': 'Chair Seat', 'children': [{'text': 'Seat Surface', 'children': [{'text': 'Seat Hard Surface', 'objs': ['new-8'], 'id': 12, 'name': 'seat_hard_surface'}], 'id': 11, 'name': 'seat_surface'}], 'id': 4, 'name': 'chair_seat'}, {'text': 'Chair Base', 'children': [{'text': 'Regular Leg Base', 'children': [{'text': 'Leg', 'objs': ['new-6'], 'id': 7, 'name': 'leg'}, {'text': 'Leg', 'objs': ['new-4'], 'id': 8, 'name': 'leg'}, {'text': 'Leg', 'objs': ['new-2'], 'id': 9, 'name': 'leg'}, {'text': 'Leg', 'objs': ['new-0'], 'id': 10, 'name': 'leg'}], 'id': 6, 'name': 'regular_leg_base'}], 'id': 5, 'name': 'chair_base'}], 'id': 0, 'name': 'chair'}], [{'text': 'Sitting Furniture', 'children': [{'text': 'Chair Back', 'id': 1, 'name': 'chair_back'}, {'text': 'Chair Arm', 'id': 2, 'name': 'chair_arm'}, {'text': 'Chair Arm', 'id': 3, 'name': 'chair_arm'}, {'text': 'Chair Seat', 'children': [{'text': 'Seat Surface', 'children': [{'text': 'Seat Hard Surface', 'id': 12, 'name': 'seat_hard_surface'}], 'id': 11, 'name': 'seat_surface'}], 'id': 4, 'name': 'chair_seat'}, {'text': 'Chair Base', 'children': [{'text': 'Regular Leg Base', 'children': [{'text': 'Leg', 'objs': ['new-6'], 'id': 7, 'name': 'leg'}, {'text': 'Leg', 'objs': ['new-4'], 'id': 8, 'name': 'leg'}, {'text': 'Leg', 'objs': ['new-2'], 'id': 9, 'name': 'leg'}, {'text': 'Leg', 'objs': ['new-0'], 'id': 10, 'name': 'leg'}], 'id': 6, 'name': 'regular_leg_base'}], 'id': 5, 'name': 'chair_base'}], 'id': 0, 'name': 'chair'}], [{'text': 'Sitting Furniture', 'children': [{'text': 'Chair Back', 'id': 1, 'name': 'chair_back'}, {'text': 'Chair Arm', 'id': 2, 'name': 'chair_arm'}, {'text': 'Chair Arm', 'id': 3, 'name': 'chair_arm'}, {'text': 'Chair Seat', 'children': [{'text': 'Seat Surface', 'children': [{'text': 'Seat Hard Surface', 'id': 12, 'name': 'seat_hard_surface'}], 'id': 11, 'name': 'seat_surface'}], 'id': 4, 'name': 'chair_seat'}, {'text': 'Chair Base', 'children': [{'text': 'Regular Leg Base', 'children': [{'text': 'Leg', 'objs': ['new-17'], 'id': 7, 'name': 'leg'}, {'text': 'Leg', 'objs': ['new-15'], 'id': 8, 'name': 'leg'}, {'text': 'Leg', 'objs': ['new-13'], 'id': 9, 'name': 'leg'}, {'text': 'Leg', 'objs': ['new-11'], 'id': 10, 'name': 'leg'}], 'id': 6, 'name': 'regular_leg_base'}], 'id': 5, 'name': 'chair_base'}], 'id': 0, 'name': 'chair'}], [{'text': 'Sitting Furniture', 'children': [{'text': 'Chair Back', 'children': [{'text': 'Back Surface', 'children': [{'text': 'Back Hard Surface', 'objs': ['new-9'], 'id': 12, 'name': 'back_hard_surface'}], 'id': 11, 'name': 'back_surface'}], 'id': 1, 'name': 'chair_back'}, {'text': 'Chair Seat', 'children': [{'text': 'Seat Surface', 'children': [{'text': 'Seat Hard Surface', 'objs': ['new-8'], 'id': 10, 'name': 'seat_hard_surface'}], 'id': 9, 'name': 'seat_surface'}], 'id': 2, 'name': 'chair_seat'}, {'text': 'Chair Base', 'children': [{'text': 'Regular Leg Base', 'children': [{'text': 'Leg', 'objs': ['new-6'], 'id': 5, 'name': 'leg'}, {'text': 'Leg', 'objs': ['new-4'], 'id': 6, 'name': 'leg'}, {'text': 'Leg', 'objs': ['new-2'], 'id': 7, 'name': 'leg'}, {'text': 'Leg', 'objs': ['new-0'], 'id': 8, 'name': 'leg'}], 'id': 4, 'name': 'regular_leg_base'}], 'id': 3, 'name': 'chair_base'}], 'id': 0, 'name': 'chair'}], [{'text': 'Sitting Furniture', 'children': [{'text': 'Chair Back', 'children': [{'text': 'Back Surface', 'children': [{'text': 'Back Hard Surface', 'objs': ['new-27'], 'id': 29, 'name': 'back_hard_surface'}], 'id': 28, 'name': 'back_surface'}], 'id': 1, 'name': 'chair_back'}, {'text': 'Chair Arm', 'children': [{'text': 'Armrest Hard Surface', 'objs': ['new-26'], 'id': 27, 'name': 'armrest_hard_surface'}], 'id': 2, 'name': 'chair_arm'}, {'text': 'Chair Arm', 'children': [{'text': 'Armrest Hard Surface', 'objs': ['new-24'], 'id': 26, 'name': 'armrest_hard_surface'}], 'id': 3, 'name': 'chair_arm'}, {'text': 'Chair Seat', 'children': [{'text': 'Seat Surface', 'children': [{'text': 'Seat Hard Surface', 'objs': ['new-22'], 'id': 25, 'name': 'seat_hard_surface'}], 'id': 24, 'name': 'seat_surface'}], 'id': 4, 'name': 'chair_seat'}, {'text': 'Chair Base', 'children': [{'text': 'Star-shape Leg Base', 'children': [{'text': 'Central Support', 'objs': ['new-21'], 'id': 7, 'name': 'central_support'}, {'text': 'Star-shape Leg Set', 'children': [{'text': 'Leg', 'objs': ['new-20'], 'id': 9, 'name': 'leg'}, {'text': 'Leg', 'objs': ['new-18'], 'id': 10, 'name': 'leg'}, {'text': 'Leg', 'objs': ['new-16'], 'id': 11, 'name': 'leg'}, {'text': 'Leg', 'objs': ['new-14'], 'id': 12, 'name': 'leg'}, {'text': 'Leg', 'objs': ['new-12'], 'id': 13, 'name': 'leg'}, {'text': 'Wheel Assembly', 'children': [{'text': 'Wheel', 'objs': ['new-10'], 'id': 23, 'name': 'wheel'}], 'id': 14, 'name': 'caster'}, {'text': 'Wheel Assembly', 'children': [{'text': 'Wheel', 'objs': ['new-8'], 'id': 22, 'name': 'wheel'}], 'id': 15, 'name': 'caster'}, {'text': 'Wheel Assembly', 'children': [{'text': 'Wheel', 'objs': ['new-6'], 'id': 21, 'name': 'wheel'}], 'id': 16, 'name': 'caster'}, {'text': 'Wheel Assembly', 'children': [{'text': 'Wheel', 'objs': ['new-4'], 'id': 20, 'name': 'wheel'}], 'id': 17, 'name': 'caster'}, {'text': 'Wheel Assembly', 'children': [{'text': 'Wheel', 'objs': ['new-3'], 'id': 19, 'name': 'wheel'}], 'id': 18, 'name': 'caster'}], 'id': 8, 'name': 'star_leg_set'}], 'id': 6, 'name': 'star_leg_base'}], 'id': 5, 'name': 'chair_base'}], 'id': 0, 'name': 'chair'}], [{'text': 'Sitting Furniture', 'children': [{'text': 'Chair Seat', 'children': [{'text': 'Seat Surface', 'children': [{'text': 'Seat Hard Surface', 'objs': ['new-8'], 'id': 12, 'name': 'seat_hard_surface'}], 'id': 11, 'name': 'seat_surface'}], 'id': 4, 'name': 'chair_seat'}, {'text': 'Chair Base', 'children': [{'text': 'Regular Leg Base', 'children': [{'text': 'Leg', 'objs': ['new-6'], 'id': 7, 'name': 'leg'}, {'text': 'Leg', 'objs': ['new-4'], 'id': 8, 'name': 'leg'}, {'text': 'Leg', 'objs': ['new-2'], 'id': 9, 'name': 'leg'}, {'text': 'Leg', 'objs': ['new-0'], 'id': 10, 'name': 'leg'}], 'id': 6, 'name': 'regular_leg_base'}], 'id': 5, 'name': 'chair_base'}, {'text': 'Chair Back', 'children': [{'text': 'Back Surface', 'children': [{'text': 'Back Hard Surface', 'objs': ['new-9'], 'id': 17, 'name': 'back_hard_surface'}], 'id': 16, 'name': 'back_surface'}], 'id': 15, 'name': 'chair_back'}], 'id': 0, 'name': 'chair'}], [{'text': 'Sitting Furniture', 'children': [{'text': 'Chair Seat', 'children': [{'text': 'Seat Surface', 'children': [{'text': 'Seat Soft Surface', 'objs': ['new-0'], 'id': 13, 'name': 'seat_soft_surface'}], 'id': 12, 'name': 'seat_surface'}], 'id': 11, 'name': 'chair_seat'}, {'text': 'Chair Back', 'children': [{'text': 'Back Surface', 'children': [{'text': 'Back Soft Surface', 'objs': ['new-1'], 'id': 16, 'name': 'back_soft_surface'}], 'id': 15, 'name': 'back_surface'}], 'id': 14, 'name': 'chair_back'}], 'id': 0, 'name': 'chair'}], [{'text': 'Sitting Furniture', 'children': [{'text': 'Chair Back', 'children': [{'text': 'Back Surface', 'children': [{'text': 'Back Hard Surface', 'objs': ['new-13'], 'id': 18, 'name': 'back_hard_surface'}], 'id': 17, 'name': 'back_surface'}], 'id': 1, 'name': 'chair_back'}, {'text': 'Chair Arm', 'children': [{'text': 'Armrest Hard Surface', 'objs': ['new-17'], 'id': 15, 'name': 'armrest_hard_surface'}, {'text': 'Arm Vertical Bar', 'objs': ['new-16'], 'id': 16, 'name': 'arm_vertical_bar'}], 'id': 2, 'name': 'chair_arm'}, {'text': 'Chair Arm', 'children': [{'text': 'Armrest Hard Surface', 'objs': ['new-15'], 'id': 13, 'name': 'armrest_hard_surface'}, {'text': 'Arm Vertical Bar', 'objs': ['new-14'], 'id': 14, 'name': 'arm_vertical_bar'}], 'id': 3, 'name': 'chair_arm'}, {'text': 'Chair Seat', 'children': [{'text': 'Seat Surface', 'children': [{'text': 'Seat Hard Surface', 'objs': ['new-8'], 'id': 12, 'name': 'seat_hard_surface'}], 'id': 11, 'name': 'seat_surface'}], 'id': 4, 'name': 'chair_seat'}, {'text': 'Chair Base', 'children': [{'text': 'Regular Leg Base', 'children': [{'text': 'Leg', 'objs': ['new-6'], 'id': 7, 'name': 'leg'}, {'text': 'Leg', 'objs': ['new-4'], 'id': 8, 'name': 'leg'}, {'text': 'Leg', 'objs': ['new-2'], 'id': 9, 'name': 'leg'}, {'text': 'Leg', 'objs': ['new-0'], 'id': 10, 'name': 'leg'}], 'id': 6, 'name': 'regular_leg_base'}], 'id': 5, 'name': 'chair_base'}], 'id': 0, 'name': 'chair'}], [{'text': 'Sitting Furniture', 'children': [{'text': 'Chair Back', 'children': [{'text': 'Back Surface', 'children': [{'text': 'Back Soft Surface', 'objs': ['new-10', 'new-1'], 'id': 50, 'name': 'back_soft_surface'}], 'id': 49, 'name': 'back_surface'}], 'id': 41, 'name': 'chair_back'}, {'text': 'Chair Arm', 'children': [{'text': 'Armrest Soft Surface', 'objs': ['new-14'], 'id': 48, 'name': 'armrest_soft_surface'}], 'id': 42, 'name': 'chair_arm'}, {'text': 'Chair Arm', 'children': [{'text': 'Armrest Soft Surface', 'objs': ['new-12'], 'id': 47, 'name': 'armrest_soft_surface'}], 'id': 43, 'name': 'chair_arm'}, {'text': 'Chair Seat', 'children': [{'text': 'Seat Surface', 'children': [{'text': 'Seat Soft Surface', 'objs': ['new-15'], 'id': 46, 'name': 'seat_soft_surface'}], 'id': 45, 'name': 'seat_surface'}], 'id': 44, 'name': 'chair_seat'}], 'id': 0, 'name': 'chair'}], [{'text': 'Sitting Furniture', 'children': [{'text': 'Chair Back', 'children': [{'text': 'Back Surface', 'children': [{'text': 'Back Hard Surface', 'objs': ['new-25'], 'id': 25, 'name': 'back_hard_surface'}], 'id': 23, 'name': 'back_surface'}], 'id': 1, 'name': 'chair_back'}, {'text': 'Chair Arm', 'children': [{'text': 'Armrest Hard Surface', 'objs': ['new-22', 'new-17'], 'id': 17, 'name': 'armrest_hard_surface'}, {'text': 'Arm Vertical Bar', 'objs': ['new-16'], 'id': 18, 'name': 'arm_vertical_bar'}], 'id': 2, 'name': 'chair_arm'}, {'text': 'Chair Arm', 'children': [{'text': 'Armrest Hard Surface', 'objs': ['new-24', 'new-19'], 'id': 19, 'name': 'armrest_hard_surface'}, {'text': 'Arm Vertical Bar', 'objs': ['new-18'], 'id': 20, 'name': 'arm_vertical_bar'}], 'id': 3, 'name': 'chair_arm'}, {'text': 'Chair Seat', 'children': [{'text': 'Seat Surface', 'children': [{'text': 'Seat Hard Surface', 'objs': ['new-20'], 'id': 22, 'name': 'seat_hard_surface'}], 'id': 21, 'name': 'seat_surface'}], 'id': 4, 'name': 'chair_seat'}, {'text': 'Chair Base', 'children': [{'text': 'Regular Leg Base', 'children': [{'text': 'Leg', 'objs': ['new-10'], 'id': 11, 'name': 'leg'}, {'text': 'Leg', 'objs': ['new-8'], 'id': 12, 'name': 'leg'}, {'text': 'Leg', 'objs': ['new-6'], 'id': 13, 'name': 'leg'}, {'text': 'Leg', 'objs': ['new-4'], 'id': 14, 'name': 'leg'}, {'text': 'Bar Stretcher', 'objs': ['new-2'], 'id': 15, 'name': 'bar_stretcher'}, {'text': 'Bar Stretcher', 'objs': ['new-0'], 'id': 16, 'name': 'bar_stretcher'}], 'id': 6, 'name': 'regular_leg_base'}], 'id': 5, 'name': 'chair_base'}], 'id': 0, 'name': 'chair'}], [{'text': 'Sitting Furniture', 'children': [{'text': 'Chair Back', 'children': [{'text': 'Back Surface', 'children': [{'text': 'Back Hard Surface', 'objs': ['new-21'], 'id': 24, 'name': 'back_hard_surface'}], 'id': 23, 'name': 'back_surface'}], 'id': 1, 'name': 'chair_back'}, {'text': 'Chair Arm', 'children': [{'text': 'Armrest Hard Surface', 'objs': ['new-17'], 'id': 17, 'name': 'armrest_hard_surface'}, {'text': 'Arm Vertical Bar', 'objs': ['new-16'], 'id': 18, 'name': 'arm_vertical_bar'}], 'id': 2, 'name': 'chair_arm'}, {'text': 'Chair Arm', 'children': [{'text': 'Armrest Hard Surface', 'objs': ['new-19'], 'id': 19, 'name': 'armrest_hard_surface'}, {'text': 'Arm Vertical Bar', 'objs': ['new-18'], 'id': 20, 'name': 'arm_vertical_bar'}], 'id': 3, 'name': 'chair_arm'}, {'text': 'Chair Seat', 'children': [{'text': 'Seat Surface', 'children': [{'text': 'Seat Hard Surface', 'objs': ['new-20'], 'id': 22, 'name': 'seat_hard_surface'}], 'id': 21, 'name': 'seat_surface'}], 'id': 4, 'name': 'chair_seat'}, {'text': 'Chair Base', 'children': [{'text': 'Regular Leg Base', 'children': [{'text': 'Leg', 'objs': ['new-10'], 'id': 11, 'name': 'leg'}, {'text': 'Leg', 'objs': ['new-8'], 'id': 12, 'name': 'leg'}, {'text': 'Leg', 'objs': ['new-6'], 'id': 13, 'name': 'leg'}, {'text': 'Leg', 'objs': ['new-4'], 'id': 14, 'name': 'leg'}, {'text': 'Bar Stretcher', 'objs': ['new-2'], 'id': 15, 'name': 'bar_stretcher'}, {'text': 'Bar Stretcher', 'objs': ['new-0'], 'id': 16, 'name': 'bar_stretcher'}], 'id': 6, 'name': 'regular_leg_base'}], 'id': 5, 'name': 'chair_base'}], 'id': 0, 'name': 'chair'}], [{'text': 'Sitting Furniture', 'children': [{'text': 'Chair Back', 'children': [{'text': 'Back Surface', 'children': [{'text': 'Back Hard Surface', 'objs': ['new-22'], 'id': 18, 'name': 'back_hard_surface'}], 'id': 17, 'name': 'back_surface'}], 'id': 1, 'name': 'chair_back'}, {'text': 'Chair Arm', 'children': [{'text': 'Armrest Hard Surface', 'objs': ['new-18', 'new-21'], 'id': 19, 'name': 'armrest_hard_surface'}, {'text': 'Arm Vertical Bar', 'objs': ['new-17', 'new-23'], 'id': 20, 'name': 'arm_vertical_bar'}], 'id': 2, 'name': 'chair_arm'}, {'text': 'Chair Arm', 'children': [{'text': 'Armrest Hard Surface', 'objs': ['new-19', 'new-15'], 'id': 13, 'name': 'armrest_hard_surface'}, {'text': 'Arm Vertical Bar', 'objs': ['new-12', 'new-25'], 'id': 14, 'name': 'arm_vertical_bar'}], 'id': 3, 'name': 'chair_arm'}, {'text': 'Chair Seat', 'children': [{'text': 'Seat Surface', 'children': [{'text': 'Seat Hard Surface', 'objs': ['new-26'], 'id': 22, 'name': 'seat_hard_surface'}], 'id': 21, 'name': 'seat_surface'}], 'id': 4, 'name': 'chair_seat'}, {'text': 'Chair Base', 'children': [{'text': 'Regular Leg Base', 'children': [{'text': 'Leg', 'objs': ['new-6'], 'id': 7, 'name': 'leg'}, {'text': 'Leg', 'objs': ['new-4'], 'id': 8, 'name': 'leg'}, {'text': 'Leg', 'objs': ['new-2'], 'id': 9, 'name': 'leg'}, {'text': 'Leg', 'objs': ['new-0'], 'id': 10, 'name': 'leg'}], 'id': 6, 'name': 'regular_leg_base'}], 'id': 5, 'name': 'chair_base'}], 'id': 0, 'name': 'chair'}], [{'text': 'Sitting Furniture', 'children': [{'text': 'Chair Seat', 'children': [{'text': 'Seat Surface', 'children': [{'text': 'Seat Hard Surface', 'objs': ['new-8'], 'id': 12, 'name': 'seat_hard_surface'}], 'id': 11, 'name': 'seat_surface'}], 'id': 4, 'name': 'chair_seat'}, {'text': 'Chair Base', 'children': [{'text': 'Regular Leg Base', 'children': [{'text': 'Leg', 'objs': ['new-6'], 'id': 7, 'name': 'leg'}, {'text': 'Leg', 'objs': ['new-4'], 'id': 8, 'name': 'leg'}, {'text': 'Leg', 'objs': ['new-2'], 'id': 9, 'name': 'leg'}, {'text': 'Leg', 'objs': ['new-0'], 'id': 10, 'name': 'leg'}], 'id': 6, 'name': 'regular_leg_base'}], 'id': 5, 'name': 'chair_base'}, {'text': 'Chair Back', 'children': [{'text': 'Back Surface', 'children': [{'text': 'Back Hard Surface', 'objs': ['new-9'], 'id': 15, 'name': 'back_hard_surface'}], 'id': 14, 'name': 'back_surface'}], 'id': 13, 'name': 'chair_back'}], 'id': 0, 'name': 'chair'}], [{'text': 'Sitting Furniture', 'children': [{'text': 'Chair Back', 'children': [{'text': 'Back Surface', 'children': [{'text': 'Back Hard Surface', 'objs': ['new-7'], 'id': 12, 'name': 'back_hard_surface'}], 'id': 11, 'name': 'back_surface'}], 'id': 1, 'name': 'chair_back'}, {'text': 'Chair Arm', 'children': [{'text': 'Armrest Hard Surface', 'objs': ['new-13'], 'id': 19, 'name': 'armrest_hard_surface'}, {'text': 'Arm Vertical Bar', 'objs': ['new-12'], 'id': 20, 'name': 'arm_vertical_bar'}], 'id': 2, 'name': 'chair_arm'}, {'text': 'Chair Arm', 'children': [{'text': 'Armrest Hard Surface', 'objs': ['new-10'], 'id': 17, 'name': 'armrest_hard_surface'}, {'text': 'Arm Vertical Bar', 'objs': ['new-8'], 'id': 18, 'name': 'arm_vertical_bar'}], 'id': 3, 'name': 'chair_arm'}, {'text': 'Chair Seat', 'children': [{'text': 'Seat Surface', 'children': [{'text': 'Seat Hard Surface', 'objs': ['new-6'], 'id': 16, 'name': 'seat_hard_surface'}], 'id': 13, 'name': 'seat_surface'}], 'id': 4, 'name': 'chair_seat'}, {'text': 'Chair Base', 'children': [{'text': 'Regular Leg Base', 'children': [{'text': 'Leg', 'objs': ['new-2'], 'id': 9, 'name': 'leg'}, {'text': 'Leg', 'objs': ['new-0'], 'id': 10, 'name': 'leg'}], 'id': 6, 'name': 'regular_leg_base'}], 'id': 5, 'name': 'chair_base'}], 'id': 0, 'name': 'chair'}], [{'text': 'Sitting Furniture', 'children': [{'text': 'Chair Back', 'children': [{'text': 'Back Surface', 'children': [{'text': 'Back Hard Surface', 'objs': ['new-17'], 'id': 23, 'name': 'back_hard_surface'}], 'id': 22, 'name': 'back_surface'}], 'id': 1, 'name': 'chair_back'}, {'text': 'Chair Arm', 'children': [{'text': 'Armrest Hard Surface', 'objs': ['new-23'], 'id': 20, 'name': 'armrest_hard_surface'}, {'text': 'Arm Vertical Bar', 'objs': ['new-22'], 'id': 21, 'name': 'arm_vertical_bar'}], 'id': 2, 'name': 'chair_arm'}, {'text': 'Chair Arm', 'children': [{'text': 'Armrest Hard Surface', 'objs': ['new-20'], 'id': 18, 'name': 'armrest_hard_surface'}, {'text': 'Arm Vertical Bar', 'objs': ['new-18'], 'id': 19, 'name': 'arm_vertical_bar'}], 'id': 3, 'name': 'chair_arm'}, {'text': 'Chair Seat', 'children': [{'text': 'Seat Surface', 'children': [{'text': 'Seat Hard Surface', 'objs': ['new-16'], 'id': 15, 'name': 'seat_hard_surface'}], 'id': 14, 'name': 'seat_surface'}], 'id': 4, 'name': 'chair_seat'}, {'text': 'Chair Base', 'children': [{'text': 'Regular Leg Base', 'children': [{'text': 'Leg', 'objs': ['new-12'], 'id': 7, 'name': 'leg'}, {'text': 'Leg', 'objs': ['new-10'], 'id': 8, 'name': 'leg'}, {'text': 'Leg', 'objs': ['new-8'], 'id': 9, 'name': 'leg'}, {'text': 'Leg', 'objs': ['new-6'], 'id': 10, 'name': 'leg'}, {'text': 'Bar Stretcher', 'objs': ['new-4'], 'id': 11, 'name': 'bar_stretcher'}, {'text': 'Bar Stretcher', 'objs': ['new-2'], 'id': 12, 'name': 'bar_stretcher'}, {'text': 'Bar Stretcher', 'objs': ['new-0'], 'id': 13, 'name': 'bar_stretcher'}], 'id': 6, 'name': 'regular_leg_base'}], 'id': 5, 'name': 'chair_base'}], 'id': 0, 'name': 'chair'}], [{'text': 'Sitting Furniture', 'children': [{'text': 'Chair Back', 'children': [{'text': 'Back Surface', 'children': [{'text': 'Back Hard Surface', 'objs': ['new-11'], 'id': 18, 'name': 'back_hard_surface'}], 'id': 17, 'name': 'back_surface'}], 'id': 1, 'name': 'chair_back'}, {'text': 'Chair Arm', 'children': [{'text': 'Armrest Hard Surface', 'objs': ['new-18'], 'id': 15, 'name': 'armrest_hard_surface'}, {'text': 'Arm Vertical Bar', 'objs': ['new-17'], 'id': 16, 'name': 'arm_vertical_bar'}], 'id': 2, 'name': 'chair_arm'}, {'text': 'Chair Arm', 'children': [{'text': 'Armrest Hard Surface', 'objs': ['new-15'], 'id': 13, 'name': 'armrest_hard_surface'}, {'text': 'Arm Vertical Bar', 'objs': ['new-12'], 'id': 14, 'name': 'arm_vertical_bar'}], 'id': 3, 'name': 'chair_arm'}, {'text': 'Chair Seat', 'children': [{'text': 'Seat Surface', 'children': [{'text': 'Seat Hard Surface', 'objs': ['new-10'], 'id': 12, 'name': 'seat_hard_surface'}], 'id': 11, 'name': 'seat_surface'}], 'id': 4, 'name': 'chair_seat'}, {'text': 'Chair Base', 'children': [{'text': 'Regular Leg Base', 'children': [{'text': 'Leg', 'objs': ['new-6'], 'id': 7, 'name': 'leg'}, {'text': 'Leg', 'objs': ['new-4'], 'id': 8, 'name': 'leg'}, {'text': 'Leg', 'objs': ['new-2'], 'id': 9, 'name': 'leg'}, {'text': 'Leg', 'objs': ['new-0'], 'id': 10, 'name': 'leg'}], 'id': 6, 'name': 'regular_leg_base'}], 'id': 5, 'name': 'chair_base'}], 'id': 0, 'name': 'chair'}], [{'text': 'Sitting Furniture', 'children': [{'text': 'Chair Base', 'children': [{'text': 'Regular Leg Base', 'children': [{'text': 'Bar Stretcher', 'objs': ['new-0'], 'id': 12, 'name': 'bar_stretcher'}, {'text': 'Leg', 'objs': ['new-12'], 'id': 13, 'name': 'leg'}, {'text': 'Leg', 'objs': ['new-10'], 'id': 14, 'name': 'leg'}, {'text': 'Leg', 'objs': ['new-8'], 'id': 15, 'name': 'leg'}, {'text': 'Leg', 'objs': ['new-6'], 'id': 16, 'name': 'leg'}, {'text': 'Bar Stretcher', 'objs': ['new-4'], 'id': 17, 'name': 'bar_stretcher'}, {'text': 'Bar Stretcher', 'objs': ['new-2'], 'id': 18, 'name': 'bar_stretcher'}], 'id': 6, 'name': 'regular_leg_base'}], 'id': 5, 'name': 'chair_base'}, {'text': 'Chair Back', 'children': [{'text': 'Back Surface', 'children': [{'text': 'Back Hard Surface', 'objs': ['new-15'], 'id': 24, 'name': 'back_hard_surface'}], 'id': 23, 'name': 'back_surface'}], 'id': 19, 'name': 'chair_back'}, {'text': 'Chair Seat', 'children': [{'text': 'Seat Surface', 'children': [{'text': 'Seat Hard Surface', 'objs': ['new-14'], 'id': 22, 'name': 'seat_hard_surface'}], 'id': 21, 'name': 'seat_surface'}], 'id': 20, 'name': 'chair_seat'}], 'id': 0, 'name': 'chair'}]]\n"
          ],
          "name": "stdout"
        }
      ]
    },
    {
      "cell_type": "code",
      "metadata": {
        "id": "PAQ1cZ8Zw1qm",
        "outputId": "1133aad9-a71e-4886-bf81-486c3d855a5c",
        "colab": {
          "base_uri": "https://localhost:8080/",
          "height": 592
        }
      },
      "source": [
        "#!pip install trimesh\n",
        "#!pip install pyquaternion\n",
        "c_pkl_data = pickle.load(open(\"/content/drive/My Drive/Colab Notebooks/GraphNN/OBB/Chair/F97B5A55.pkl\",\"rb\"))\n",
        "for k,v in c_pkl_data[0].items():\n",
        "  print(k)\n",
        "  print(v)"
      ],
      "execution_count": 41,
      "outputs": [
        {
          "output_type": "stream",
          "text": [
            "Back Hard Surface\n",
            "[(TrackedArray(-0.22235288), TrackedArray(0.47949534), TrackedArray(-0.28564042), TrackedArray(0.62851395), TrackedArray(0.63556306), TrackedArray(0.12173586), Quaternion(0.748234172614717, 0.6632350573743163, 0.012189542928980565, 0.010784092193579798))]\n",
            "Back Surface\n",
            "[None]\n",
            "Chair Back\n",
            "[None]\n",
            "Armrest Hard Surface\n",
            "[(TrackedArray(-0.71024695), TrackedArray(0.2881826), TrackedArray(-0.19382198), TrackedArray(0.35744513), TrackedArray(0.06828202), TrackedArray(0.04478346), Quaternion(0.01193119781422015, 0.6786931791171389, 0.7342605883094432, -0.009726437891642492)), (TrackedArray(-0.71275906), TrackedArray(-0.30068381), TrackedArray(-0.1875463), TrackedArray(0.35521816), TrackedArray(0.0709693), TrackedArray(0.04474545), Quaternion(0.011737760427826874, 0.733020031394292, 0.6800492661547317, -0.008766650287394753))]\n",
            "Chair Arm\n",
            "[None, None]\n",
            "Seat Hard Surface\n",
            "[(TrackedArray(-0.28727664), TrackedArray(0.24292302), TrackedArray(-0.20062976), TrackedArray(0.60243487), TrackedArray(0.28045922), TrackedArray(0.56924722), Quaternion(0.6928979677899618, 0.7165548454089742, -0.05768721926255034, 0.05580093625751959))]\n",
            "Seat Surface\n",
            "[None]\n",
            "Chair Seat\n",
            "[None]\n",
            "Central Support\n",
            "[(TrackedArray(0.00442969), TrackedArray(-0.26359118), TrackedArray(-0.016887), TrackedArray(0.10418067), TrackedArray(0.17324214), TrackedArray(0.08405559), Quaternion(0.6683409280768917, -0.6778358764544503, 0.15309100249459748, -0.2653715761036685))]\n",
            "Leg\n",
            "[(TrackedArray(0.04462662), TrackedArray(-0.21262089), TrackedArray(0.0075668), TrackedArray(0.31305934), TrackedArray(0.073529), TrackedArray(0.04815142), Quaternion(0.7599142876559046, -0.6202859785826462, 0.19204208426252845, -0.02992353692817434)), (TrackedArray(-0.04281051), TrackedArray(-0.20802464), TrackedArray(-0.25921447), TrackedArray(0.3048704), TrackedArray(0.07441593), TrackedArray(0.05554371), Quaternion(0.5867199419573778, -0.4032930302872148, -0.5219330798787034, 0.46978750681517495)), (TrackedArray(-0.19111773), TrackedArray(-0.08523993), TrackedArray(-0.26294628), TrackedArray(0.30823562), TrackedArray(0.05443255), TrackedArray(0.06945973), Quaternion(0.12008008891254221, -0.9707006680247998, -0.1877858228559648, -0.08976341168466788)), (TrackedArray(-0.06132442), TrackedArray(0.14037624), TrackedArray(-0.29694225), TrackedArray(0.31511094), TrackedArray(0.08186693), TrackedArray(0.05327903), Quaternion(0.6797039475440437, 0.5755451917286056, -0.39135812326961605, -0.23149318634035557)), (TrackedArray(-0.03686145), TrackedArray(-0.22620636), TrackedArray(0.02026269), TrackedArray(0.28969189), TrackedArray(0.08107702), TrackedArray(0.05185886), Quaternion(0.5768517070126754, -0.6798125438696869, -0.2400561159962076, 0.38401832571740996))]\n",
            "Wheel\n",
            "[(TrackedArray(-0.19820412), TrackedArray(-0.17726727), TrackedArray(0.22208439), TrackedArray(0.08620664), TrackedArray(0.09478052), TrackedArray(0.06394238), Quaternion(0.7084391010731385, 0.551369478632459, -0.4396480197094745, -0.028554454447452273)), (TrackedArray(-0.02134775), TrackedArray(0.25363938), TrackedArray(0.13885715), TrackedArray(0.10916611), TrackedArray(0.08689747), TrackedArray(0.06370356), Quaternion(0.7088606176619214, 0.44456876799223344, 0.5462366222966958, 0.03874000149359804)), (TrackedArray(-0.067168), TrackedArray(-0.26084901), TrackedArray(-0.22195432), TrackedArray(0.09620949), TrackedArray(0.0850424), TrackedArray(0.06396818), Quaternion(0.6530039093029286, -0.2991088634378822, -0.631121685746852, 0.29292524648456414)), (TrackedArray(-0.01823825), TrackedArray(-0.31375323), TrackedArray(0.01713876), TrackedArray(0.08538047), TrackedArray(0.0888322), TrackedArray(0.06344632), Quaternion(0.5613559878248003, -0.40664391394246546, -0.5718559782028484, -0.43874927051843504)), (TrackedArray(-0.07738039), TrackedArray(-0.18649826), TrackedArray(-0.33127771), TrackedArray(0.08680771), TrackedArray(0.08658525), TrackedArray(0.06358103), Quaternion(0.5171110578501036, 0.6967599431971581, -0.09943194301596442, -0.48706778184674654))]\n",
            "Wheel Assembly\n",
            "[None, None, None, None, None]\n",
            "Star-shape Leg Set\n",
            "[None]\n",
            "Star-shape Leg Base\n",
            "[None]\n",
            "Chair Base\n",
            "[None]\n",
            "Sitting Furniture\n",
            "[None]\n"
          ],
          "name": "stdout"
        }
      ]
    },
    {
      "cell_type": "code",
      "metadata": {
        "id": "s_TJFFA1Aquk",
        "outputId": "f8e71f0a-4598-4095-cc05-33b1658a3aee",
        "colab": {
          "base_uri": "https://localhost:8080/",
          "height": 124
        }
      },
      "source": [
        "print(len(sit_data))\n",
        "index = 0\n",
        "hashes = []\n",
        "hashx = []\n",
        "for sit in sit_data:\n",
        "  person = sit['object']\n",
        "  hash1 = person['hash']\n",
        "  if (hash1 in all_chair):\n",
        "    hashx.append(hash1)\n",
        "    hashes.append(index)\n",
        "  index = index + 1\n",
        "\n",
        "print(hashes)\n",
        "print(len(hashes))\n",
        "print(hashx)\n",
        "print(len(hashx))"
      ],
      "execution_count": 17,
      "outputs": [
        {
          "output_type": "stream",
          "text": [
            "179\n",
            "[2, 4, 6, 7, 14, 15, 16, 17, 18, 20, 21, 22, 23, 26, 29, 30, 33, 35, 36, 37, 39, 40, 41, 42, 44, 45, 46, 51, 61, 63, 64, 67, 68, 69, 79, 80, 81, 82, 83, 84, 85, 86, 87, 96, 97, 98, 99, 100, 101, 102, 104, 105, 106, 107, 108, 109, 110, 111, 112, 113, 114, 115, 116, 117, 118, 119, 120, 121, 122, 123, 124, 125, 126, 127, 128, 129, 130, 131, 132, 133, 134, 135, 136, 137, 138, 139, 140, 141, 142, 143, 144, 145, 146, 147, 148, 149, 150, 151, 152, 153, 154, 155, 156, 157, 158, 159, 160, 161, 162, 163, 164, 165, 166, 167, 172, 173, 174, 175, 176, 177, 178]\n",
            "121\n",
            "['02D23CEC', '02D23CEC', '08C198E9', '08C198E9', 'DDCDEB1B', 'A55359B8', '96FF362A', '96FF362A', '96FF362A', '96FF362A', '96FF362A', '08C198E9', '08C198E9', '08C198E9', '313C1FCC', '08C198E9', 'D3C6D323', '313C1FCC', 'D3C6D323', '08C198E9', '08C198E9', '08C198E9', '313C1FCC', '08C198E9', 'D3C6D323', 'D3C6D323', 'D3C6D323', '1F550C17', '08C198E9', '32ECE3BC', 'BDE777B6', 'BD564507', 'EE724C57', 'EE724C57', '1FF3CC2E', '1FF3CC2E', '1FF3CC2E', '1FF3CC2E', '1FF3CC2E', '1FF3CC2E', '1FF3CC2E', '1FF3CC2E', '1FF3CC2E', '92F001A2', '92F001A2', '92F001A2', '92F001A2', '92F001A2', '92F001A2', '92F001A2', 'D1368CC9', 'D1368CC9', 'D1368CC9', 'D1368CC9', 'D1368CC9', 'D1368CC9', 'D1368CC9', 'D1368CC9', 'D1368CC9', 'D1368CC9', 'D1368CC9', 'D1368CC9', 'D1368CC9', 'D1368CC9', 'D1368CC9', 'D1368CC9', 'D1368CC9', 'D1368CC9', 'D1368CC9', 'D1368CC9', 'D1368CC9', 'D1368CC9', 'D1368CC9', 'D1368CC9', 'D1368CC9', 'F97B5A55', 'F97B5A55', 'F97B5A55', 'F5C05823', 'F5C05823', 'D1368CC9', 'D1368CC9', 'F97B5A55', 'F97B5A55', 'F97B5A55', 'F97B5A55', 'F97B5A55', 'F97B5A55', 'F5C05823', 'F5C05823', 'F97B5A55', 'D1368CC9', 'D1368CC9', 'F5C05823', 'F5C05823', 'F97B5A55', 'F97B5A55', 'F97B5A55', '90B5D32C', '1F550C17', '1F550C17', '1F550C17', '1F550C17', '1F550C17', '1F550C17', '1F550C17', '1F550C17', '1F550C17', '1F550C17', '1F550C17', 'F97B5A55', 'F97B5A55', 'F97B5A55', 'F97B5A55', 'F5C05823', '8F33260A', '2D2C7514', '8F33260A', '8F33260A', '47571A16', '47571A16']\n",
            "121\n"
          ],
          "name": "stdout"
        }
      ]
    },
    {
      "cell_type": "code",
      "metadata": {
        "id": "0h2YGiFHHmNP",
        "outputId": "3036107f-2b62-4a5c-f5cc-ae21f70d2be2",
        "colab": {
          "base_uri": "https://localhost:8080/",
          "height": 72
        }
      },
      "source": [
        "def intersection(lst1, lst2): \n",
        "    lst3 = [value for value in lst1 if value in lst2] \n",
        "    return lst3\n",
        "\n",
        "print(intersection(all_chair, hashx))\n",
        "print(len(intersection(all_chair,hashx)))"
      ],
      "execution_count": 18,
      "outputs": [
        {
          "output_type": "stream",
          "text": [
            "['313C1FCC', '2D2C7514', 'DDCDEB1B', '02D23CEC', 'A55359B8', 'D1368CC9', 'BD564507', '92F001A2', '8F33260A', '1F550C17', '08C198E9', '90B5D32C', 'F5C05823', 'EE724C57', 'BDE777B6', '47571A16', 'F97B5A55', 'D3C6D323', '96FF362A', '32ECE3BC', '1FF3CC2E']\n",
            "21\n"
          ],
          "name": "stdout"
        }
      ]
    },
    {
      "cell_type": "code",
      "metadata": {
        "id": "he2y9vuTOAJ3"
      },
      "source": [
        "import os\n",
        "bbox_dir = os.path.join('OBB')\n",
        "bbox_dict = {}\n",
        "for d in os.listdir(bbox_dir):\n",
        "    if '.' in d or '_' in d:\n",
        "        continue\n",
        "    for f in os.listdir(os.path.join(bbox_dir, d)):\n",
        "        print(f)\n",
        "        if len(f) > 12:\n",
        "            continue\n",
        "        bboxes = pickle.load(open(os.path.join(bbox_dir, d, f), 'rb'))[0]\n",
        "        bbox_dict[f[:-4]] = bboxes"
      ],
      "execution_count": null,
      "outputs": []
    },
    {
      "cell_type": "code",
      "metadata": {
        "id": "YjewLQ9RNDLB"
      },
      "source": [
        "#!pip install trimesh\n",
        "#!pip install pyquaternion\n",
        "chair_pkl_data = pickle.load(open(\"/content/drive/My Drive/Colab Notebooks/GraphNN/OBB/Chair/F97B5A55.pkl\",\"rb\"))"
      ],
      "execution_count": 20,
      "outputs": []
    },
    {
      "cell_type": "code",
      "metadata": {
        "id": "7pao_Le2NyJU",
        "outputId": "b58d9124-7eb6-4d0b-df85-684353506749",
        "colab": {
          "base_uri": "https://localhost:8080/",
          "height": 55
        }
      },
      "source": [
        "print(chair_pkl_data)"
      ],
      "execution_count": 21,
      "outputs": [
        {
          "output_type": "stream",
          "text": [
            "[defaultdict(<class 'list'>, {'Back Hard Surface': [(TrackedArray(-0.22235288), TrackedArray(0.47949534), TrackedArray(-0.28564042), TrackedArray(0.62851395), TrackedArray(0.63556306), TrackedArray(0.12173586), Quaternion(0.748234172614717, 0.6632350573743163, 0.012189542928980565, 0.010784092193579798))], 'Back Surface': [None], 'Chair Back': [None], 'Armrest Hard Surface': [(TrackedArray(-0.71024695), TrackedArray(0.2881826), TrackedArray(-0.19382198), TrackedArray(0.35744513), TrackedArray(0.06828202), TrackedArray(0.04478346), Quaternion(0.01193119781422015, 0.6786931791171389, 0.7342605883094432, -0.009726437891642492)), (TrackedArray(-0.71275906), TrackedArray(-0.30068381), TrackedArray(-0.1875463), TrackedArray(0.35521816), TrackedArray(0.0709693), TrackedArray(0.04474545), Quaternion(0.011737760427826874, 0.733020031394292, 0.6800492661547317, -0.008766650287394753))], 'Chair Arm': [None, None], 'Seat Hard Surface': [(TrackedArray(-0.28727664), TrackedArray(0.24292302), TrackedArray(-0.20062976), TrackedArray(0.60243487), TrackedArray(0.28045922), TrackedArray(0.56924722), Quaternion(0.6928979677899618, 0.7165548454089742, -0.05768721926255034, 0.05580093625751959))], 'Seat Surface': [None], 'Chair Seat': [None], 'Central Support': [(TrackedArray(0.00442969), TrackedArray(-0.26359118), TrackedArray(-0.016887), TrackedArray(0.10418067), TrackedArray(0.17324214), TrackedArray(0.08405559), Quaternion(0.6683409280768917, -0.6778358764544503, 0.15309100249459748, -0.2653715761036685))], 'Leg': [(TrackedArray(0.04462662), TrackedArray(-0.21262089), TrackedArray(0.0075668), TrackedArray(0.31305934), TrackedArray(0.073529), TrackedArray(0.04815142), Quaternion(0.7599142876559046, -0.6202859785826462, 0.19204208426252845, -0.02992353692817434)), (TrackedArray(-0.04281051), TrackedArray(-0.20802464), TrackedArray(-0.25921447), TrackedArray(0.3048704), TrackedArray(0.07441593), TrackedArray(0.05554371), Quaternion(0.5867199419573778, -0.4032930302872148, -0.5219330798787034, 0.46978750681517495)), (TrackedArray(-0.19111773), TrackedArray(-0.08523993), TrackedArray(-0.26294628), TrackedArray(0.30823562), TrackedArray(0.05443255), TrackedArray(0.06945973), Quaternion(0.12008008891254221, -0.9707006680247998, -0.1877858228559648, -0.08976341168466788)), (TrackedArray(-0.06132442), TrackedArray(0.14037624), TrackedArray(-0.29694225), TrackedArray(0.31511094), TrackedArray(0.08186693), TrackedArray(0.05327903), Quaternion(0.6797039475440437, 0.5755451917286056, -0.39135812326961605, -0.23149318634035557)), (TrackedArray(-0.03686145), TrackedArray(-0.22620636), TrackedArray(0.02026269), TrackedArray(0.28969189), TrackedArray(0.08107702), TrackedArray(0.05185886), Quaternion(0.5768517070126754, -0.6798125438696869, -0.2400561159962076, 0.38401832571740996))], 'Wheel': [(TrackedArray(-0.19820412), TrackedArray(-0.17726727), TrackedArray(0.22208439), TrackedArray(0.08620664), TrackedArray(0.09478052), TrackedArray(0.06394238), Quaternion(0.7084391010731385, 0.551369478632459, -0.4396480197094745, -0.028554454447452273)), (TrackedArray(-0.02134775), TrackedArray(0.25363938), TrackedArray(0.13885715), TrackedArray(0.10916611), TrackedArray(0.08689747), TrackedArray(0.06370356), Quaternion(0.7088606176619214, 0.44456876799223344, 0.5462366222966958, 0.03874000149359804)), (TrackedArray(-0.067168), TrackedArray(-0.26084901), TrackedArray(-0.22195432), TrackedArray(0.09620949), TrackedArray(0.0850424), TrackedArray(0.06396818), Quaternion(0.6530039093029286, -0.2991088634378822, -0.631121685746852, 0.29292524648456414)), (TrackedArray(-0.01823825), TrackedArray(-0.31375323), TrackedArray(0.01713876), TrackedArray(0.08538047), TrackedArray(0.0888322), TrackedArray(0.06344632), Quaternion(0.5613559878248003, -0.40664391394246546, -0.5718559782028484, -0.43874927051843504)), (TrackedArray(-0.07738039), TrackedArray(-0.18649826), TrackedArray(-0.33127771), TrackedArray(0.08680771), TrackedArray(0.08658525), TrackedArray(0.06358103), Quaternion(0.5171110578501036, 0.6967599431971581, -0.09943194301596442, -0.48706778184674654))], 'Wheel Assembly': [None, None, None, None, None], 'Star-shape Leg Set': [None], 'Star-shape Leg Base': [None], 'Chair Base': [None], 'Sitting Furniture': [None]}), 'F97B5A55']\n"
          ],
          "name": "stdout"
        }
      ]
    },
    {
      "cell_type": "code",
      "metadata": {
        "id": "pZGkghGURO56",
        "outputId": "15e0f8d9-fe4b-4d2d-bd0f-1687d4d1a1e3",
        "colab": {
          "resources": {
            "http://localhost:8080/nbextensions/google.colab/files.js": {
              "data": "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",
              "ok": true,
              "headers": [
                [
                  "content-type",
                  "application/javascript"
                ]
              ],
              "status": 200,
              "status_text": ""
            }
          },
          "base_uri": "https://localhost:8080/",
          "height": 177
        }
      },
      "source": [
        "from google.colab import files\n",
        "def getLocalFiles():\n",
        "    _files = files.upload()\n",
        "    if len(_files) >0:\n",
        "       for k,v in _files.items():\n",
        "         open(k,'wb').write(v)\n",
        "getLocalFiles()"
      ],
      "execution_count": null,
      "outputs": [
        {
          "output_type": "display_data",
          "data": {
            "text/html": [
              "\n",
              "     <input type=\"file\" id=\"files-000534f5-0928-4f5e-b3ed-957635b179b8\" name=\"files[]\" multiple disabled\n",
              "        style=\"border:none\" />\n",
              "     <output id=\"result-000534f5-0928-4f5e-b3ed-957635b179b8\">\n",
              "      Upload widget is only available when the cell has been executed in the\n",
              "      current browser session. Please rerun this cell to enable.\n",
              "      </output>\n",
              "      <script src=\"/nbextensions/google.colab/files.js\"></script> "
            ],
            "text/plain": [
              "<IPython.core.display.HTML object>"
            ]
          },
          "metadata": {
            "tags": []
          }
        },
        {
          "output_type": "stream",
          "text": [
            "Saving kinematics.py to kinematics.py\n",
            "Saving prepare_gt_data.py to prepare_gt_data.py\n",
            "Saving visualization.py to visualization.py\n",
            "Saving A-shape.txt to A-shape.txt\n"
          ],
          "name": "stdout"
        }
      ]
    },
    {
      "cell_type": "code",
      "metadata": {
        "id": "Ip4MXPN0Ps_U",
        "outputId": "77474482-bcd4-41f7-fcc7-44b5ef781976",
        "colab": {
          "base_uri": "https://localhost:8080/",
          "height": 72
        }
      },
      "source": [
        "hoi_data = pickle.load(open('sit_data_2.pkl', 'rb'))\n",
        "total = len(hoi_data)\n",
        "print(total)\n",
        "print(hoi_data[178])"
      ],
      "execution_count": 51,
      "outputs": [
        {
          "output_type": "stream",
          "text": [
            "179\n",
            "{'person': {'id': '000574465', 'hash': 'F6D1E04E', 'root_position': ['-1008.556885', '-475.584930', '49.597954'], 'root_rotation': ['0.000000', '0.000000', '0.998889', '-0.047118'], 'skeleton': {'SKEL_ROOT': ['-1008.561646', '-475.573578', '49.582195'], 'SKEL_Pelvis': ['-1008.561646', '-475.573578', '49.582195'], 'SKEL_L_Thigh': ['-1008.486755', '-475.547607', '49.490768'], 'SKEL_L_Calf': ['-1008.306885', '-475.912140', '49.493202'], 'SKEL_L_Foot': ['-1008.494934', '-476.015747', '49.140415'], 'SKEL_L_Toe0': ['-1008.407471', '-476.142334', '49.091175'], 'IK_L_Foot': ['-1008.450928', '-476.079346', '49.048397'], 'PH_L_Foot': ['-1008.450928', '-476.079346', '49.048397'], 'MH_L_Knee': ['-1008.309814', '-475.906311', '49.493160'], 'SKEL_R_Thigh': ['-1008.672913', '-475.565216', '49.535400'], 'SKEL_R_Calf': ['-1008.827393', '-475.941040', '49.546734'], 'SKEL_R_Foot': ['-1008.825317', '-475.866516', '49.140553'], 'SKEL_R_Toe0': ['-1008.929138', '-475.979462', '49.090080'], 'IK_R_Foot': ['-1008.876648', '-475.923279', '49.047920'], 'PH_R_Foot': ['-1008.876648', '-475.923279', '49.047920'], 'MH_R_Knee': ['-1008.824890', '-475.935028', '49.546555'], 'RB_L_ThighRoll': ['-1008.486755', '-475.547607', '49.490768'], 'RB_R_ThighRoll': ['-1008.672913', '-475.565216', '49.535400'], 'SKEL_Spine_Root': ['-1008.561646', '-475.573578', '49.582195'], 'SKEL_Spine0': ['-1008.557373', '-475.568176', '49.602276'], 'SKEL_Spine1': ['-1008.539185', '-475.573090', '49.685005'], 'SKEL_Spine2': ['-1008.522705', '-475.602539', '49.764038'], 'SKEL_Spine3': ['-1008.506958', '-475.640961', '49.869026'], 'SKEL_L_Clavicle': ['-1008.445679', '-475.764557', '50.044697'], 'SKEL_L_UpperArm': ['-1008.308899', '-475.646393', '50.065029'], 'SKEL_L_Forearm': ['-1008.079834', '-475.664398', '49.915440'], 'SKEL_L_Hand': ['-1007.972778', '-475.900238', '49.925232'], 'SKEL_L_Finger00': ['-1007.978638', '-475.925262', '49.948147'], 'SKEL_L_Finger01': ['-1008.004944', '-475.973663', '49.959984'], 'SKEL_L_Finger02': ['-1008.006165', '-476.008667', '49.951653'], 'SKEL_L_Finger10': ['-1007.948914', '-476.000458', '49.970703'], 'SKEL_L_Finger11': ['-1007.986023', '-476.024689', '49.954227'], 'SKEL_L_Finger12': ['-1007.991455', '-476.001221', '49.954262'], 'SKEL_L_Finger20': ['-1007.937378', '-476.000275', '49.949558'], 'SKEL_L_Finger21': ['-1007.979370', '-476.027588', '49.936203'], 'SKEL_L_Finger22': ['-1007.987793', '-475.996033', '49.932858'], 'SKEL_L_Finger30': ['-1007.937256', '-475.996429', '49.924557'], 'SKEL_L_Finger31': ['-1007.974609', '-476.019531', '49.916721'], 'SKEL_L_Finger32': ['-1007.986389', '-475.991333', '49.914154'], 'SKEL_L_Finger40': ['-1007.944702', '-475.993256', '49.902912'], 'SKEL_L_Finger41': ['-1007.976501', '-476.014221', '49.899620'], 'SKEL_L_Finger42': ['-1007.986511', '-475.993896', '49.896397'], 'PH_L_Hand': ['-1007.972778', '-475.900238', '49.925232'], 'IK_L_Hand': ['-1007.963928', '-475.953674', '49.930531'], 'RB_L_ForeArmRoll': ['-1008.026306', '-475.782318', '49.920334'], 'RB_L_ArmRoll': ['-1008.308899', '-475.646393', '50.065029'], 'MH_L_Elbow': ['-1008.079163', '-475.664459', '49.914986'], 'SKEL_R_Clavicle': ['-1008.507935', '-475.778717', '50.044804'], 'SKEL_R_UpperArm': ['-1008.688416', '-475.783600', '50.067062'], 'SKEL_R_Forearm': ['-1008.775146', '-475.952515', '49.869297'], 'SKEL_R_Hand': ['-1008.590149', '-476.114990', '49.950249'], 'SKEL_R_Finger00': ['-1008.574524', '-476.118622', '49.980766'], 'SKEL_R_Finger01': ['-1008.525024', '-476.128387', '50.005745'], 'SKEL_R_Finger02': ['-1008.497192', '-476.147583', '50.018135'], 'SKEL_R_Finger10': ['-1008.549866', '-476.178833', '50.033829'], 'SKEL_R_Finger11': ['-1008.504211', '-476.170624', '50.024689'], 'SKEL_R_Finger12': ['-1008.518066', '-476.153381', '50.015053'], 'SKEL_R_Finger20': ['-1008.552917', '-476.193939', '50.015339'], 'SKEL_R_Finger21': ['-1008.502930', '-476.182312', '50.008629'], 'SKEL_R_Finger22': ['-1008.521606', '-476.159821', '49.993664'], 'SKEL_R_Finger30': ['-1008.549683', '-476.199921', '49.990986'], 'SKEL_R_Finger31': ['-1008.507446', '-476.186310', '49.986935'], 'SKEL_R_Finger32': ['-1008.523132', '-476.163635', '49.973526'], 'SKEL_R_Finger40': ['-1008.541443', '-476.199829', '49.969383'], 'SKEL_R_Finger41': ['-1008.505920', '-476.185638', '49.969097'], 'SKEL_R_Finger42': ['-1008.517761', '-476.169159', '49.958481'], 'PH_R_Hand': ['-1008.590149', '-476.114990', '49.950249'], 'IK_R_Hand': ['-1008.561401', '-476.152557', '49.977226'], 'RB_R_ForeArmRoll': ['-1008.682617', '-476.033752', '49.909771'], 'RB_R_ArmRoll': ['-1008.688416', '-475.783600', '50.067062'], 'MH_R_Elbow': ['-1008.775452', '-475.953033', '49.868702'], 'SKEL_Neck_1': ['-1008.480713', '-475.754089', '50.088707'], 'SKEL_Head': ['-1008.472351', '-475.797729', '50.192684'], 'IK_Head': ['-1008.472351', '-475.797729', '50.192684'], 'FACIAL_facialRoot': ['-1008.469055', '-475.804871', '50.229263'], 'FB_L_Brow_Out_000': ['-1008.556885', '-475.584930', '49.597954'], 'FB_L_Lid_Upper_000': ['-1008.556885', '-475.584930', '49.597954'], 'FB_L_Eye_000': ['-1008.556885', '-475.584930', '49.597954'], 'FB_L_CheekBone_000': ['-1008.556885', '-475.584930', '49.597954'], 'FB_L_Lip_Corner_000': ['-1008.556885', '-475.584930', '49.597954'], 'FB_R_Lid_Upper_000': ['-1008.556885', '-475.584930', '49.597954'], 'FB_R_Eye_000': ['-1008.556885', '-475.584930', '49.597954'], 'FB_R_CheekBone_000': ['-1008.556885', '-475.584930', '49.597954'], 'FB_R_Brow_Out_000': ['-1008.556885', '-475.584930', '49.597954'], 'FB_R_Lip_Corner_000': ['-1008.556885', '-475.584930', '49.597954'], 'FB_Brow_Centre_000': ['-1008.556885', '-475.584930', '49.597954'], 'FB_UpperLipRoot_000': ['-1008.556885', '-475.584930', '49.597954'], 'FB_UpperLip_000': ['-1008.556885', '-475.584930', '49.597954'], 'FB_L_Lip_Top_000': ['-1008.556885', '-475.584930', '49.597954'], 'FB_R_Lip_Top_000': ['-1008.556885', '-475.584930', '49.597954'], 'FB_Jaw_000': ['-1008.556885', '-475.584930', '49.597954'], 'FB_LowerLipRoot_000': ['-1008.556885', '-475.584930', '49.597954'], 'FB_LowerLip_000': ['-1008.556885', '-475.584930', '49.597954'], 'FB_L_Lip_Bot_000': ['-1008.556885', '-475.584930', '49.597954'], 'FB_R_Lip_Bot_000': ['-1008.556885', '-475.584930', '49.597954'], 'FB_Tongue_000': ['-1008.556885', '-475.584930', '49.597954'], 'RB_Neck_1': ['-1008.556885', '-475.584930', '49.597954'], 'IK_Root': ['-1008.561646', '-475.573578', '49.582195\\n']}}, 'object': {'id': '000571256', 'hash': '47571A16', 'root_position': ['-1008.401733', '-475.229126', '49.633194'], 'root_rotation': ['0.002964', '0.005742', '-0.329831', '0.944018']}}\n"
          ],
          "name": "stdout"
        }
      ]
    },
    {
      "cell_type": "code",
      "metadata": {
        "id": "sB1tyhtRPuzR",
        "outputId": "31f81fc1-cd0c-4aa9-cc8c-9740f3621c20",
        "colab": {
          "base_uri": "https://localhost:8080/",
          "height": 1000
        }
      },
      "source": [
        "import os\n",
        "import numpy as np\n",
        "from pyquaternion.quaternion import Quaternion as Q\n",
        "import pickle\n",
        "import torch\n",
        "import matplotlib.pyplot as plt\n",
        "from mpl_toolkits.mplot3d import Axes3D\n",
        "\n",
        "import kinematics as K\n",
        "from visualization import draw_obj\n",
        "\n",
        "for i_data, data_dict in enumerate(hoi_data):\n",
        "    if i_data in [65, 67, 78, 97, 103, 131, 144, 149, 150, 151, 152, 153, 160, 173, 177, 178]:   # incorrect sitting\n",
        "        continue\n",
        "    if i_data in [14, 68, 69, 70, 71, 129, 130, 131, 136, 137, 138, 139, 140, 141, 169]:   # incorrect labeling -> incorrect relationship 130? 169?\n",
        "        continue\n",
        "    #print('\\r%d/%d'%(i_data, total), end='')\n",
        "    if (i_data == 176):\n",
        "      print(i_data)\n",
        "      # extract obj bboxes\n",
        "      obj = data_dict['object']\n",
        "      if obj['hash'] not in bbox_dict:\n",
        "          continue\n",
        "      # extract skeleton\n",
        "      skeleton = data_dict['person']['skeleton']\n",
        "      print(skeleton)\n",
        "      skeleton = np.array([skeleton[x] for x in K.joint_names]).astype(np.float32)\n",
        "      center = np.array(data_dict['person']['root_position']).astype(np.float32)\n",
        "      skeleton -= center\n",
        "      print(skeleton)\n",
        "      rotation = np.array(data_dict['person']['root_rotation']).astype(np.float32)[[3,0,1,2]]\n",
        "      skeleton = np.matmul(Q(rotation).inverse.rotation_matrix, skeleton.T).T\n",
        "      print(skeleton)\n",
        "      obj_config = []\n",
        "      obj_cat_id = []\n",
        "      for part_id in bbox_dict[obj['hash']]:\n",
        "          print(part_id)\n",
        "          for bbox in bbox_dict[obj['hash']][part_id]:\n",
        "              print(bbox)\n",
        "              if bbox is None:\n",
        "                  continue\n",
        "              T1,T2,T3,D,W,H,R = bbox\n",
        "              R2 = Q(rotation).inverse * Q(np.array(obj['root_rotation'])[[3,0,1,2]])\n",
        "              dx, dy, dz = (float(x) for x in obj['root_position'])\n",
        "              dx -= center[0]\n",
        "              dy -= center[1]\n",
        "              dz -= center[2]\n",
        "              obj_config.append([T3,T2,T1,D,W,H,*R.rotation_matrix[:,:2].reshape([6]),dx,dy,dz,*R2.rotation_matrix[:,:2].reshape([6])])\n",
        "              obj_cat_id.append(part_id)"
      ],
      "execution_count": 73,
      "outputs": [
        {
          "output_type": "stream",
          "text": [
            "176\n",
            "{'SKEL_ROOT': ['-1007.894592', '-477.781830', '49.627159'], 'SKEL_Pelvis': ['-1007.894592', '-477.781830', '49.627159'], 'SKEL_L_Thigh': ['-1007.987061', '-477.797119', '49.550617'], 'SKEL_L_Calf': ['-1008.293518', '-477.530731', '49.530907'], 'SKEL_L_Foot': ['-1008.191956', '-477.599121', '49.136517'], 'SKEL_L_Toe0': ['-1008.292542', '-477.487457', '49.077435'], 'IK_L_Foot': ['-1008.242371', '-477.548187', '49.039742'], 'PH_L_Foot': ['-1008.242371', '-477.548187', '49.039742'], 'MH_L_Knee': ['-1007.896423', '-477.780182', '49.647018'], 'SKEL_R_Thigh': ['-1007.807373', '-477.729645', '49.561504'], 'SKEL_R_Calf': ['-1007.741577', '-477.329041', '49.540211'], 'SKEL_R_Foot': ['-1007.791321', '-477.426575', '49.142017'], 'SKEL_R_Toe0': ['-1007.773315', '-477.277222', '49.083145'], 'IK_R_Foot': ['-1007.779907', '-477.355682', '49.045319'], 'PH_R_Foot': ['-1007.779907', '-477.355682', '49.045319'], 'MH_R_Knee': ['-1007.896423', '-477.780182', '49.647018'], 'RB_L_ThighRoll': ['-1007.987061', '-477.797119', '49.550617'], 'RB_R_ThighRoll': ['-1007.807373', '-477.729645', '49.561504'], 'SKEL_Spine_Root': ['-1007.894592', '-477.781830', '49.627159'], 'SKEL_Spine0': ['-1007.890381', '-477.795654', '49.642715'], 'SKEL_Spine1': ['-1007.897400', '-477.799377', '49.727196'], 'SKEL_Spine2': ['-1007.914917', '-477.786224', '49.810276'], 'SKEL_Spine3': ['-1007.949219', '-477.763550', '49.915432'], 'SKEL_L_Clavicle': ['-1008.064575', '-477.664154', '50.078808'], 'SKEL_L_UpperArm': ['-1008.210632', '-477.760376', '50.028805'], 'SKEL_L_Forearm': ['-1008.233887', '-477.699066', '49.762585'], 'SKEL_L_Hand': ['-1008.172607', '-477.485199', '49.629578'], 'SKEL_L_Finger00': ['-1008.145325', '-477.464264', '49.630856'], 'SKEL_L_Finger01': ['-1008.104309', '-477.429657', '49.613613'], 'SKEL_L_Finger02': ['-1008.082825', '-477.406464', '49.596436'], 'SKEL_L_Finger10': ['-1008.120483', '-477.388824', '49.603722'], 'SKEL_L_Finger11': ['-1008.098694', '-477.357300', '49.575932'], 'SKEL_L_Finger12': ['-1008.083496', '-477.352081', '49.558002'], 'SKEL_L_Finger20': ['-1008.139221', '-477.390015', '49.588661'], 'SKEL_L_Finger21': ['-1008.109924', '-477.364441', '49.554451'], 'SKEL_L_Finger22': ['-1008.086060', '-477.366180', '49.531948'], 'SKEL_L_Finger30': ['-1008.153198', '-477.402710', '49.571854'], 'SKEL_L_Finger31': ['-1008.125427', '-477.384613', '49.542027'], 'SKEL_L_Finger32': ['-1008.101501', '-477.385071', '49.522854'], 'SKEL_L_Finger40': ['-1008.159729', '-477.418701', '49.556465'], 'SKEL_L_Finger41': ['-1008.136841', '-477.401733', '49.530933'], 'SKEL_L_Finger42': ['-1008.117981', '-477.402435', '49.518044'], 'PH_L_Hand': ['-1008.151062', '-477.444305', '49.600719'], 'IK_L_Hand': ['-1008.151062', '-477.444305', '49.600811'], 'RB_L_ForeArmRoll': ['-1008.203186', '-477.592133', '49.696079'], 'RB_L_ArmRoll': ['-1008.210632', '-477.760376', '50.028805'], 'MH_L_Elbow': ['-1007.896423', '-477.780182', '49.647018'], 'SKEL_R_Clavicle': ['-1008.007202', '-477.639252', '50.091713'], 'SKEL_R_UpperArm': ['-1007.838562', '-477.573334', '50.108688'], 'SKEL_R_Forearm': ['-1007.653870', '-477.568481', '49.906086'], 'SKEL_R_Hand': ['-1007.745789', '-477.475128', '49.682453'], 'SKEL_R_Finger00': ['-1007.774963', '-477.479218', '49.664574'], 'SKEL_R_Finger01': ['-1007.817017', '-477.476196', '49.627155'], 'SKEL_R_Finger02': ['-1007.841125', '-477.467041', '49.602104'], 'SKEL_R_Finger10': ['-1007.838745', '-477.434021', '49.633839'], 'SKEL_R_Finger11': ['-1007.857178', '-477.415161', '49.594593'], 'SKEL_R_Finger12': ['-1007.853577', '-477.415955', '49.570766'], 'SKEL_R_Finger20': ['-1007.824646', '-477.414856', '49.637669'], 'SKEL_R_Finger21': ['-1007.841064', '-477.398590', '49.591312'], 'SKEL_R_Finger22': ['-1007.834717', '-477.403687', '49.559502'], 'SKEL_R_Finger30': ['-1007.802307', '-477.403259', '49.635929'], 'SKEL_R_Finger31': ['-1007.815979', '-477.391083', '49.595268'], 'SKEL_R_Finger32': ['-1007.815308', '-477.395050', '49.564877'], 'SKEL_R_Finger40': ['-1007.780640', '-477.398346', '49.629303'], 'SKEL_R_Finger41': ['-1007.795166', '-477.384369', '49.596828'], 'SKEL_R_Finger42': ['-1007.797913', '-477.386017', '49.574154'], 'PH_R_Hand': ['-1007.778625', '-477.445648', '49.650406'], 'IK_R_Hand': ['-1007.778564', '-477.445740', '49.650436'], 'RB_R_ForeArmRoll': ['-1007.699829', '-477.521820', '49.794270'], 'RB_R_ArmRoll': ['-1007.838562', '-477.573334', '50.108688'], 'MH_R_Elbow': ['-1007.896423', '-477.780182', '49.647018'], 'SKEL_Neck_1': ['-1008.037231', '-477.671051', '50.128605'], 'SKEL_Head': ['-1008.089172', '-477.610107', '50.208469'], 'IK_Head': ['-1008.089172', '-477.610107', '50.208469'], 'FACIAL_facialRoot': ['-1008.105469', '-477.594482', '50.241619'], 'FB_L_Brow_Out_000': ['-1007.896423', '-477.780182', '49.647018'], 'FB_L_Lid_Upper_000': ['-1007.896423', '-477.780182', '49.647018'], 'FB_L_Eye_000': ['-1007.896423', '-477.780182', '49.647018'], 'FB_L_CheekBone_000': ['-1007.896423', '-477.780182', '49.647018'], 'FB_L_Lip_Corner_000': ['-1007.896423', '-477.780182', '49.647018'], 'FB_R_Lid_Upper_000': ['-1007.896423', '-477.780182', '49.647018'], 'FB_R_Eye_000': ['-1007.896423', '-477.780182', '49.647018'], 'FB_R_CheekBone_000': ['-1007.896423', '-477.780182', '49.647018'], 'FB_R_Brow_Out_000': ['-1007.896423', '-477.780182', '49.647018'], 'FB_R_Lip_Corner_000': ['-1007.896423', '-477.780182', '49.647018'], 'FB_Brow_Centre_000': ['-1007.896423', '-477.780182', '49.647018'], 'FB_UpperLipRoot_000': ['-1007.896423', '-477.780182', '49.647018'], 'FB_UpperLip_000': ['-1007.896423', '-477.780182', '49.647018'], 'FB_L_Lip_Top_000': ['-1007.896423', '-477.780182', '49.647018'], 'FB_R_Lip_Top_000': ['-1007.896423', '-477.780182', '49.647018'], 'FB_Jaw_000': ['-1007.896423', '-477.780182', '49.647018'], 'FB_LowerLipRoot_000': ['-1007.896423', '-477.780182', '49.647018'], 'FB_LowerLip_000': ['-1007.896423', '-477.780182', '49.647018'], 'FB_L_Lip_Bot_000': ['-1007.896423', '-477.780182', '49.647018'], 'FB_R_Lip_Bot_000': ['-1007.896423', '-477.780182', '49.647018'], 'FB_Tongue_000': ['-1007.896423', '-477.780182', '49.647018'], 'RB_Neck_1': ['-1007.896423', '-477.780182', '49.647018'], 'IK_Root': ['-1007.894592', '-477.781830', '49.627159\\n']}\n",
            "[[ 0.00183105 -0.00164795 -0.01985931]\n",
            " [ 0.00183105 -0.00164795 -0.01985931]\n",
            " [-0.09063721 -0.01693726 -0.09640121]\n",
            " [-0.39709473  0.24945068 -0.11611176]\n",
            " [-0.29553223  0.18106079 -0.51050186]\n",
            " [-0.39611816  0.2927246  -0.5695839 ]\n",
            " [-0.34594727  0.23199463 -0.6072769 ]\n",
            " [-0.34594727  0.23199463 -0.6072769 ]\n",
            " [ 0.          0.          0.        ]\n",
            " [ 0.08905029  0.05053711 -0.08551407]\n",
            " [ 0.15484619  0.45114136 -0.10680771]\n",
            " [ 0.10510254  0.35360718 -0.50500107]\n",
            " [ 0.12310791  0.5029602  -0.5638733 ]\n",
            " [ 0.11651611  0.4244995  -0.6016998 ]\n",
            " [ 0.11651611  0.4244995  -0.6016998 ]\n",
            " [ 0.          0.          0.        ]\n",
            " [-0.09063721 -0.01693726 -0.09640121]\n",
            " [ 0.08905029  0.05053711 -0.08551407]\n",
            " [ 0.00183105 -0.00164795 -0.01985931]\n",
            " [ 0.00604248 -0.01547241 -0.00430298]\n",
            " [-0.00097656 -0.01919556  0.08017731]\n",
            " [-0.01849365 -0.00604248  0.1632576 ]\n",
            " [-0.05279541  0.01663208  0.26841354]\n",
            " [-0.16815186  0.11602783  0.4317894 ]\n",
            " [-0.31420898  0.01980591  0.38178635]\n",
            " [-0.33746338  0.08111572  0.11556625]\n",
            " [-0.27618408  0.2949829  -0.0174408 ]\n",
            " [-0.24890137  0.31591797 -0.01616287]\n",
            " [-0.20788574  0.3505249  -0.0334053 ]\n",
            " [-0.18640137  0.37371826 -0.05058289]\n",
            " [-0.22406006  0.39135742 -0.04329681]\n",
            " [-0.20227051  0.42288208 -0.07108688]\n",
            " [-0.18707275  0.4281006  -0.08901596]\n",
            " [-0.24279785  0.39016724 -0.05835724]\n",
            " [-0.21350098  0.41574097 -0.09256744]\n",
            " [-0.18963623  0.41400146 -0.11507034]\n",
            " [-0.2567749   0.37747192 -0.07516479]\n",
            " [-0.2290039   0.39556885 -0.10499191]\n",
            " [-0.20507812  0.39511108 -0.12416458]\n",
            " [-0.26330566  0.3614807  -0.09055328]\n",
            " [-0.24041748  0.3784485  -0.11608505]\n",
            " [-0.22155762  0.37774658 -0.12897491]\n",
            " [-0.25463867  0.33587646 -0.04629898]\n",
            " [-0.25463867  0.33587646 -0.04620743]\n",
            " [-0.3067627   0.18804932  0.04906082]\n",
            " [-0.31420898  0.01980591  0.38178635]\n",
            " [ 0.          0.          0.        ]\n",
            " [-0.11077881  0.14093018  0.44469452]\n",
            " [ 0.05786133  0.20684814  0.46166992]\n",
            " [ 0.24255371  0.21170044  0.25906754]\n",
            " [ 0.15063477  0.3050537   0.03543472]\n",
            " [ 0.12145996  0.30096436  0.01755524]\n",
            " [ 0.07940674  0.3039856  -0.01986313]\n",
            " [ 0.05529785  0.31314087 -0.04491425]\n",
            " [ 0.05767822  0.3461609  -0.01317978]\n",
            " [ 0.03924561  0.36502075 -0.05242538]\n",
            " [ 0.04284668  0.3642273  -0.07625198]\n",
            " [ 0.07177734  0.36532593 -0.00934982]\n",
            " [ 0.05535889  0.3815918  -0.05570602]\n",
            " [ 0.06170654  0.37649536 -0.08751678]\n",
            " [ 0.09411621  0.3769226  -0.01108932]\n",
            " [ 0.08044434  0.38909912 -0.05175018]\n",
            " [ 0.08111572  0.38513184 -0.08214188]\n",
            " [ 0.11578369  0.38183594 -0.01771545]\n",
            " [ 0.10125732  0.395813   -0.05018997]\n",
            " [ 0.09851074  0.39416504 -0.07286453]\n",
            " [ 0.11779785  0.3345337   0.00338745]\n",
            " [ 0.11785889  0.33444214  0.00341797]\n",
            " [ 0.19659424  0.25836182  0.14725113]\n",
            " [ 0.05786133  0.20684814  0.46166992]\n",
            " [ 0.          0.          0.        ]\n",
            " [-0.1408081   0.10913086  0.48158646]\n",
            " [-0.19274902  0.17007446  0.56145096]\n",
            " [-0.19274902  0.17007446  0.56145096]\n",
            " [-0.20904541  0.18569946  0.5946007 ]\n",
            " [ 0.          0.          0.        ]\n",
            " [ 0.          0.          0.        ]\n",
            " [ 0.          0.          0.        ]\n",
            " [ 0.          0.          0.        ]\n",
            " [ 0.          0.          0.        ]\n",
            " [ 0.          0.          0.        ]\n",
            " [ 0.          0.          0.        ]\n",
            " [ 0.          0.          0.        ]\n",
            " [ 0.          0.          0.        ]\n",
            " [ 0.          0.          0.        ]\n",
            " [ 0.          0.          0.        ]\n",
            " [ 0.          0.          0.        ]\n",
            " [ 0.          0.          0.        ]\n",
            " [ 0.          0.          0.        ]\n",
            " [ 0.          0.          0.        ]\n",
            " [ 0.          0.          0.        ]\n",
            " [ 0.          0.          0.        ]\n",
            " [ 0.          0.          0.        ]\n",
            " [ 0.          0.          0.        ]\n",
            " [ 0.          0.          0.        ]\n",
            " [ 0.          0.          0.        ]\n",
            " [ 0.          0.          0.        ]\n",
            " [ 0.00183105 -0.00164795 -0.01985931]]\n",
            "[[ 1.13438209e-03 -2.18670418e-03 -1.98593140e-02]\n",
            " [ 1.13438209e-03 -2.18670418e-03 -1.98593140e-02]\n",
            " [-9.08026892e-02  1.60264024e-02 -9.64012146e-02]\n",
            " [-2.83975233e-01  3.73186190e-01 -1.16111755e-01]\n",
            " [-2.12958925e-01  2.73442505e-01 -5.10501862e-01]\n",
            " [-2.67839640e-01  4.13351211e-01 -5.69583893e-01]\n",
            " [-2.42236430e-01  3.38854734e-01 -6.07276917e-01]\n",
            " [-2.42236430e-01  3.38854734e-01 -6.07276917e-01]\n",
            " [ 0.00000000e+00  0.00000000e+00  0.00000000e+00]\n",
            " [ 1.01135806e-01  1.59844575e-02 -8.55140686e-02]\n",
            " [ 3.03638053e-01  3.67844804e-01 -1.06807709e-01]\n",
            " [ 2.22765974e-01  2.94040644e-01 -5.05001068e-01]\n",
            " [ 2.92155074e-01  4.27516009e-01 -5.63873291e-01]\n",
            " [ 2.58386275e-01  3.56387953e-01 -6.01699829e-01]\n",
            " [ 2.58386275e-01  3.56387953e-01 -6.01699829e-01]\n",
            " [ 0.00000000e+00  0.00000000e+00  0.00000000e+00]\n",
            " [-9.08026892e-02  1.60264024e-02 -9.64012146e-02]\n",
            " [ 1.01135806e-01  1.59844575e-02 -8.55140686e-02]\n",
            " [ 1.13438209e-03 -2.18670418e-03 -1.98593140e-02]\n",
            " [ 2.13976662e-04 -1.66090734e-02 -4.30297852e-03]\n",
            " [-7.66611913e-03 -1.76253705e-02  8.01773071e-02]\n",
            " [-1.94372426e-02  8.48733006e-04  1.63257599e-01]\n",
            " [-4.35712712e-02  3.41397971e-02  2.68413544e-01]\n",
            " [-1.16593837e-01  1.67759893e-01  4.31789398e-01]\n",
            " [-2.87162939e-01  1.29062025e-01  3.81786346e-01]\n",
            " [-2.87365779e-01  1.94633506e-01  1.15566254e-01]\n",
            " [-1.54775547e-01  3.73278843e-01 -1.74407959e-02]\n",
            " [-1.21872496e-01  3.83279465e-01 -1.61628723e-02]\n",
            " [-7.13051008e-02  4.01247768e-01 -3.34053040e-02]\n",
            " [-4.30355006e-02  4.15401919e-01 -5.05828857e-02]\n",
            " [-7.20831222e-02  4.45160157e-01 -4.32968140e-02]\n",
            " [-4.05973458e-02  4.67005854e-01 -7.10868835e-02]\n",
            " [-2.45352086e-02  4.66545122e-01 -8.90159607e-02]\n",
            " [-9.00421275e-02  4.50636976e-01 -5.83572388e-02]\n",
            " [-5.36219954e-02  4.64271365e-01 -9.25674438e-02]\n",
            " [-3.18941790e-02  4.54248692e-01 -1.15070343e-01]\n",
            " [-1.07591508e-01  4.43669326e-01 -7.51647949e-02]\n",
            " [-7.52296824e-02  4.50841432e-01 -1.04991913e-01]\n",
            " [-5.29938848e-02  4.41997120e-01 -1.24164581e-01]\n",
            " [-1.19329772e-01  4.30997197e-01 -9.05532837e-02]\n",
            " [-9.19358984e-02  4.38829822e-01 -1.16085052e-01]\n",
            " [-7.45281589e-02  4.31538888e-01 -1.28974915e-01]\n",
            " [-1.20222836e-01  4.03980597e-01 -4.62989807e-02]\n",
            " [-1.20222836e-01  4.03980597e-01 -4.62074280e-02]\n",
            " [-2.21013528e-01  2.83934706e-01  4.90608215e-02]\n",
            " [-2.87162939e-01  1.29062025e-01  3.81786346e-01]\n",
            " [ 0.00000000e+00  0.00000000e+00  0.00000000e+00]\n",
            " [-5.41278864e-02  1.70890113e-01  4.44694519e-01]\n",
            " [ 1.26921766e-01  1.73277100e-01  4.61669922e-01]\n",
            " [ 3.01518236e-01  1.12854474e-01  2.59067535e-01]\n",
            " [ 2.48309987e-01  2.32574180e-01  3.54347229e-02]\n",
            " [ 2.19561171e-01  2.39008279e-01  1.75552368e-02]\n",
            " [ 1.81258052e-01  2.56628508e-01 -1.98631287e-02]\n",
            " [ 1.61910166e-01  2.73678926e-01 -4.49142456e-02]\n",
            " [ 1.75753085e-01  3.03751529e-01 -1.31797791e-02]\n",
            " [ 1.65132281e-01  3.27889763e-01 -5.24253845e-02]\n",
            " [ 1.68224135e-01  3.25880347e-01 -7.62519836e-02]\n",
            " [ 1.95692437e-01  3.16732522e-01 -9.34982300e-03]\n",
            " [ 1.86044652e-01  3.37734057e-01 -5.57060242e-02]\n",
            " [ 1.90194012e-01  3.30730543e-01 -8.75167847e-02]\n",
            " [ 2.20682836e-01  3.19730510e-01 -1.10893250e-02]\n",
            " [ 2.12167698e-01  3.35937918e-01 -5.17501831e-02]\n",
            " [ 2.11400703e-01  3.31988003e-01 -8.21418762e-02]\n",
            " [ 2.42693910e-01  3.16708403e-01 -1.77154541e-02]\n",
            " [ 2.34012218e-01  3.34901850e-01 -5.01899719e-02]\n",
            " [ 2.30861496e-01  3.34325312e-01 -7.28645325e-02]\n",
            " [ 2.27940972e-01  2.71720514e-01  3.38745117e-03]\n",
            " [ 2.27965904e-01  2.71613343e-01  3.41796875e-03]\n",
            " [ 2.74908744e-01  1.72700044e-01  1.47251129e-01]\n",
            " [ 1.26921766e-01  1.73277100e-01  4.61669922e-01]\n",
            " [ 0.00000000e+00  0.00000000e+00  0.00000000e+00]\n",
            " [-9.34234613e-02  1.51685609e-01  4.81586456e-01]\n",
            " [-1.20608438e-01  2.27004656e-01  5.61450958e-01]\n",
            " [-1.20608438e-01  2.27004656e-01  5.61450958e-01]\n",
            " [-1.30367377e-01  2.47363338e-01  5.94600677e-01]\n",
            " [ 0.00000000e+00  0.00000000e+00  0.00000000e+00]\n",
            " [ 0.00000000e+00  0.00000000e+00  0.00000000e+00]\n",
            " [ 0.00000000e+00  0.00000000e+00  0.00000000e+00]\n",
            " [ 0.00000000e+00  0.00000000e+00  0.00000000e+00]\n",
            " [ 0.00000000e+00  0.00000000e+00  0.00000000e+00]\n",
            " [ 0.00000000e+00  0.00000000e+00  0.00000000e+00]\n",
            " [ 0.00000000e+00  0.00000000e+00  0.00000000e+00]\n",
            " [ 0.00000000e+00  0.00000000e+00  0.00000000e+00]\n",
            " [ 0.00000000e+00  0.00000000e+00  0.00000000e+00]\n",
            " [ 0.00000000e+00  0.00000000e+00  0.00000000e+00]\n",
            " [ 0.00000000e+00  0.00000000e+00  0.00000000e+00]\n",
            " [ 0.00000000e+00  0.00000000e+00  0.00000000e+00]\n",
            " [ 0.00000000e+00  0.00000000e+00  0.00000000e+00]\n",
            " [ 0.00000000e+00  0.00000000e+00  0.00000000e+00]\n",
            " [ 0.00000000e+00  0.00000000e+00  0.00000000e+00]\n",
            " [ 0.00000000e+00  0.00000000e+00  0.00000000e+00]\n",
            " [ 0.00000000e+00  0.00000000e+00  0.00000000e+00]\n",
            " [ 0.00000000e+00  0.00000000e+00  0.00000000e+00]\n",
            " [ 0.00000000e+00  0.00000000e+00  0.00000000e+00]\n",
            " [ 0.00000000e+00  0.00000000e+00  0.00000000e+00]\n",
            " [ 0.00000000e+00  0.00000000e+00  0.00000000e+00]\n",
            " [ 0.00000000e+00  0.00000000e+00  0.00000000e+00]\n",
            " [ 1.13438209e-03 -2.18670418e-03 -1.98593140e-02]]\n",
            "Back Hard Surface\n",
            "(TrackedArray(0.46116127), TrackedArray(-0.09992039), TrackedArray(-0.36515037), TrackedArray(0.71089036), TrackedArray(0.23980003), TrackedArray(0.48941606), Quaternion(0.9914895153586913, 0.1295087521611246, 0.008599549278888445, -0.010103058925661783))\n",
            "Back Surface\n",
            "None\n",
            "Chair Back\n",
            "None\n",
            "Armrest Hard Surface\n",
            "(TrackedArray(-0.76939002), TrackedArray(-0.29865476), TrackedArray(-0.09887844), TrackedArray(0.40874203), TrackedArray(0.08977465), TrackedArray(0.08694582), Quaternion(0.04444848628609291, 0.682458556210277, 0.7293980062141147, 0.015912248525384712))\n",
            "(TrackedArray(-0.50228652), TrackedArray(-0.65479514), TrackedArray(-0.06601919), TrackedArray(0.4045382), TrackedArray(0.08602237), TrackedArray(0.09017525), Quaternion(0.46054234111371106, -0.5704180359731131, -0.5256591834050424, 0.43151644137856704))\n",
            "Arm Vertical Bar\n",
            "(TrackedArray(0.3572018), TrackedArray(-0.31753261), TrackedArray(0.41943065), TrackedArray(0.19544803), TrackedArray(0.0777944), TrackedArray(0.0803612), Quaternion(0.5779739981361245, -0.421282253555486, -0.5056692874376325, -0.4824581764879431))\n",
            "(TrackedArray(0.22933947), TrackedArray(0.28751659), TrackedArray(-0.68430245), TrackedArray(0.22186186), TrackedArray(0.1031946), TrackedArray(0.08256841), Quaternion(0.690920369398441, 0.06773294106645347, 0.7176669878840831, -0.05473012284105919))\n",
            "Chair Arm\n",
            "None\n",
            "None\n",
            "Seat Hard Surface\n",
            "(TrackedArray(-0.50333189), TrackedArray(-0.18460604), TrackedArray(-0.37344349), TrackedArray(0.75972201), TrackedArray(0.54420061), TrackedArray(0.18278833), Quaternion(0.01585382331202624, 0.0008314478058801811, -0.9998179933919193, -0.010580409760163587))\n",
            "Seat Surface\n",
            "None\n",
            "Chair Seat\n",
            "None\n",
            "Leg\n",
            "(TrackedArray(-0.36988316), TrackedArray(-0.18714711), TrackedArray(-0.33157964), TrackedArray(0.40172448), TrackedArray(0.09989474), TrackedArray(0.07708311), Quaternion(0.6949691229917387, -0.14298626986808896, 0.7046429762650401, -0.007149875359025911))\n",
            "(TrackedArray(-0.35195683), TrackedArray(-0.2337923), TrackedArray(-0.0691585), TrackedArray(0.39373191), TrackedArray(0.09366372), TrackedArray(0.08460811), Quaternion(0.7004954649547173, -0.07607234486080333, -0.7071461761530414, 0.05885055205675993))\n",
            "(TrackedArray(-0.46295829), TrackedArray(-0.25205561), TrackedArray(-0.3343171), TrackedArray(0.39249311), TrackedArray(0.09101254), TrackedArray(0.09083723), Quaternion(0.560762706357175, 0.40181644197604105, 0.6017631927395842, -0.4024547104713192))\n",
            "(TrackedArray(0.34421392), TrackedArray(-0.30616051), TrackedArray(-0.36361103), TrackedArray(0.39732816), TrackedArray(0.07899997), TrackedArray(0.07736477), Quaternion(0.5545607176322754, -0.44108366012018524, 0.5525964823032974, 0.43879920576520864))\n",
            "Regular Leg Base\n",
            "None\n",
            "Chair Base\n",
            "None\n",
            "Sitting Furniture\n",
            "None\n"
          ],
          "name": "stdout"
        }
      ]
    },
    {
      "cell_type": "code",
      "metadata": {
        "id": "_WaCf7piR-la",
        "outputId": "5cf93b4c-e317-4af1-97bc-92a2985d8d4c",
        "colab": {
          "base_uri": "https://localhost:8080/",
          "height": 557
        }
      },
      "source": [
        "\n",
        "for i in range(len(obj_config)):\n",
        "  print(len(obj_config[i]))\n",
        "  print(obj_config[i])\n",
        "  print(obj_cat_id[i])"
      ],
      "execution_count": 29,
      "outputs": [
        {
          "output_type": "stream",
          "text": [
            "21\n",
            "[TrackedArray(-0.36515037), TrackedArray(-0.09992039), TrackedArray(0.46116127), TrackedArray(0.71089036), TrackedArray(0.23980003), TrackedArray(0.48941606), 0.9996479519050888, 0.022261587788203287, -0.017806720203175523, 0.9662508226280256, -0.019669595002602114, 0.2566393763236871, 0.07781933984369971, -0.18249511523436013, -0.6179194326171853, 0.9998093279282712, -0.014411497582678914, 0.014121163563842824, 0.9996611305537306, -0.013487050352883674, -0.021677933422287226]\n",
            "Back Hard Surface\n",
            "21\n",
            "[TrackedArray(-0.09887844), TrackedArray(-0.29865476), TrackedArray(-0.76939002), TrackedArray(0.40874203), TrackedArray(0.08977465), TrackedArray(0.08694582), -0.06454930224451848, 0.9941532697263556, 0.9969823711678015, 0.0679942388045012, -0.04312237424323685, 0.0838812242506767, 0.07781933984369971, -0.18249511523436013, -0.6179194326171853, 0.9998093279282712, -0.014411497582678914, 0.014121163563842824, 0.9996611305537306, -0.013487050352883674, -0.021677933422287226]\n",
            "Armrest Hard Surface\n",
            "21\n",
            "[TrackedArray(-0.06601919), TrackedArray(-0.65479514), TrackedArray(-0.50228652), TrackedArray(0.4045382), TrackedArray(0.08602237), TrackedArray(0.09017525), 0.07495196744384339, 0.202227773695184, 0.9971541422613549, -0.023166349886892305, -0.008112900055978802, -0.9790644758028999, 0.07781933984369971, -0.18249511523436013, -0.6179194326171853, 0.9998093279282712, -0.014411497582678914, 0.014121163563842824, 0.9996611305537306, -0.013487050352883674, -0.021677933422287226]\n",
            "Armrest Hard Surface\n",
            "21\n",
            "[TrackedArray(0.41943065), TrackedArray(-0.31753261), TrackedArray(0.3572018), TrackedArray(0.19544803), TrackedArray(0.0777944), TrackedArray(0.0803612), 0.023065359364491323, 0.9837555563274462, -0.13163756846535565, 0.1795107415582798, 0.9910295352641693, 0.0009481877837139079, 0.07781933984369971, -0.18249511523436013, -0.6179194326171853, 0.9998093279282712, -0.014411497582678914, 0.014121163563842824, 0.9996611305537306, -0.013487050352883674, -0.021677933422287226]\n",
            "Arm Vertical Bar\n",
            "21\n",
            "[TrackedArray(-0.68430245), TrackedArray(0.28751659), TrackedArray(0.22933947), TrackedArray(0.22186186), TrackedArray(0.1031946), TrackedArray(0.08256841), -0.03608258368962028, 0.1728477049725169, 0.021591078210250223, 0.9848337246965818, -0.9991155451177809, 0.015040132512416135, 0.07781933984369971, -0.18249511523436013, -0.6179194326171853, 0.9998093279282712, -0.014411497582678914, 0.014121163563842824, 0.9996611305537306, -0.013487050352883674, -0.021677933422287226]\n",
            "Arm Vertical Bar\n",
            "21\n",
            "[TrackedArray(-0.37344349), TrackedArray(-0.18460604), TrackedArray(-0.50333189), TrackedArray(0.75972201), TrackedArray(0.54420061), TrackedArray(0.18278833), -0.9994959299618742, -0.0013271130599575305, -0.0019980728475834163, 0.9997747272477061, 0.031684281505879416, 0.021183331364557266, 0.07781933984369971, -0.18249511523436013, -0.6179194326171853, 0.9998093279282712, -0.014411497582678914, 0.014121163563842824, 0.9996611305537306, -0.013487050352883674, -0.021677933422287226]\n",
            "Seat Hard Surface\n",
            "21\n",
            "[TrackedArray(-0.33157964), TrackedArray(-0.18714711), TrackedArray(-0.36988316), TrackedArray(0.40172448), TrackedArray(0.09989474), TrackedArray(0.07708311), 0.006854310565392958, -0.1915706563142479, -0.21144642674529784, 0.9590076118231208, -0.9773655544591893, -0.20881830404598792, 0.07781933984369971, -0.18249511523436013, -0.6179194326171853, 0.9998093279282712, -0.014411497582678914, 0.014121163563842824, 0.9996611305537306, -0.013487050352883674, -0.021677933422287226]\n",
            "Leg\n",
            "21\n",
            "[TrackedArray(-0.0691585), TrackedArray(-0.2337923), TrackedArray(-0.35195683), TrackedArray(0.39373191), TrackedArray(0.09366372), TrackedArray(0.08460811), -0.0070382038505072, 0.02513944590694142, 0.19003762521030876, 0.9814992217399875, 0.9817515799279293, -0.18980855086979465, 0.07781933984369971, -0.18249511523436013, -0.6179194326171853, 0.9998093279282712, -0.014411497582678914, 0.014121163563842824, 0.9996611305537306, -0.013487050352883674, -0.021677933422287226]\n",
            "Leg\n",
            "21\n",
            "[TrackedArray(-0.3343171), TrackedArray(-0.25205561), TrackedArray(-0.46295829), TrackedArray(0.39249311), TrackedArray(0.09101254), TrackedArray(0.09083723), -0.04817746823338299, 0.9349598752977052, 0.03223350477734424, 0.35314750595432265, -0.9983185527297336, -0.03371751209002096, 0.07781933984369971, -0.18249511523436013, -0.6179194326171853, 0.9998093279282712, -0.014411497582678914, 0.014121163563842824, 0.9996611305537306, -0.013487050352883674, -0.021677933422287226]\n",
            "Leg\n",
            "21\n",
            "[TrackedArray(-0.36361103), TrackedArray(-0.30616051), TrackedArray(0.34421392), TrackedArray(0.39732816), TrackedArray(0.07899997), TrackedArray(0.07736477), 0.004184769531687, -0.9741641628590083, -0.0008009530765019504, 0.22580092358960577, -0.9999909230478722, -0.004257547097571043, 0.07781933984369971, -0.18249511523436013, -0.6179194326171853, 0.9998093279282712, -0.014411497582678914, 0.014121163563842824, 0.9996611305537306, -0.013487050352883674, -0.021677933422287226]\n",
            "Leg\n"
          ],
          "name": "stdout"
        }
      ]
    }
  ]
}